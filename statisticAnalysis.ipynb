{
 "cells": [
  {
   "cell_type": "code",
   "execution_count": 10,
   "metadata": {},
   "outputs": [],
   "source": [
    "import pandas as pd\n",
    "from constants.layoutType import LayoutType\n",
    "from constants.behaviourType import BehaviourType"
   ]
  },
  {
   "cell_type": "code",
   "execution_count": 11,
   "metadata": {},
   "outputs": [
    {
     "name": "stdout",
     "output_type": "stream",
     "text": [
      "Method,50%,75%,90%,100%\n",
      "WANDERING,100.00%,97.78%,88.70%,51.85%\n",
      "GREEDY,100.00%,99.44%,98.15%,88.52%\n",
      "FRONTIER,100.00%,100.00%,100.00%,98.70%\n",
      "GREEDY_FRONTIER,100.00%,100.00%,100.00%,97.04%\n",
      "FRONTIER_ASSIST,100.00%,100.00%,100.00%,98.89%\n",
      "SCOUT,100.00%,99.81%,99.81%,99.07%\n",
      "FRONTIER_CENTRAL_GREEDY,100.00%,100.00%,100.00%,91.85%\n",
      "ZONE_SPLIT,100.00%,100.00%,99.26%,92.22%\n",
      "ZONE_VORONOI,100.00%,100.00%,100.00%,100.00%\n"
     ]
    }
   ],
   "source": [
    "# Success rate (fully explore)\n",
    "\n",
    "\n",
    "def getSuccessRate(df: pd.DataFrame, columnName):\n",
    "    return len(df[df[columnName] >= 0]) / len(df) * 100\n",
    "\n",
    "\n",
    "frames = []\n",
    "for num in [15, 10, 5]:\n",
    "    for layout in LayoutType.getExperimentLayout():\n",
    "        dfd = pd.read_csv(f\"experimentResults/experiment_{layout.name}_{num}.csv\")\n",
    "        frames.append(dfd)\n",
    "\n",
    "df_concat = pd.concat(frames)\n",
    "\n",
    "print(f\"Method,50%,75%,90%,100%\")\n",
    "for behaviour in BehaviourType.getExperimentBehaviourType():\n",
    "    df_behav = df_concat[df_concat[\"Behaviour\"] == behaviour.name]\n",
    "    successRate50 = getSuccessRate(df_behav, \"total50\")\n",
    "    successRate75 = getSuccessRate(df_behav, \"total75\")\n",
    "    successRate90 = getSuccessRate(df_behav, \"total90\")\n",
    "    successRate100 = getSuccessRate(df_behav, \"total100\")\n",
    "    print(\n",
    "        f\"{behaviour.name},{successRate50:.2f}%,{successRate75:.2f}%,{successRate90:.2f}%,{successRate100:.2f}%\"\n",
    "    )"
   ]
  },
  {
   "cell_type": "code",
   "execution_count": 12,
   "metadata": {},
   "outputs": [
    {
     "name": "stdout",
     "output_type": "stream",
     "text": [
      "num,Method,50%,75%,90%,100%\n",
      "15,PLAIN,WANDERING,100.00%,100.00%,100.00%,100.00%\n",
      "15,PLAIN,GREEDY,100.00%,100.00%,100.00%,100.00%\n",
      "15,PLAIN,FRONTIER,100.00%,100.00%,100.00%,100.00%\n",
      "15,PLAIN,GREEDY_FRONTIER,100.00%,100.00%,100.00%,100.00%\n",
      "15,PLAIN,FRONTIER_ASSIST,100.00%,100.00%,100.00%,100.00%\n",
      "15,PLAIN,SCOUT,100.00%,100.00%,100.00%,100.00%\n",
      "15,PLAIN,FRONTIER_CENTRAL_GREEDY,100.00%,100.00%,100.00%,100.00%\n",
      "15,PLAIN,ZONE_SPLIT,100.00%,100.00%,100.00%,100.00%\n",
      "15,PLAIN,ZONE_VORONOI,100.00%,100.00%,100.00%,100.00%\n",
      "num,Method,50%,75%,90%,100%\n",
      "15,OBSTACLES,WANDERING,100.00%,100.00%,100.00%,97.50%\n",
      "15,OBSTACLES,GREEDY,100.00%,100.00%,100.00%,100.00%\n",
      "15,OBSTACLES,FRONTIER,100.00%,100.00%,100.00%,100.00%\n",
      "15,OBSTACLES,GREEDY_FRONTIER,100.00%,100.00%,100.00%,100.00%\n",
      "15,OBSTACLES,FRONTIER_ASSIST,100.00%,100.00%,100.00%,100.00%\n",
      "15,OBSTACLES,SCOUT,100.00%,100.00%,100.00%,100.00%\n",
      "15,OBSTACLES,FRONTIER_CENTRAL_GREEDY,100.00%,100.00%,100.00%,100.00%\n",
      "15,OBSTACLES,ZONE_SPLIT,100.00%,100.00%,100.00%,90.00%\n",
      "15,OBSTACLES,ZONE_VORONOI,100.00%,100.00%,100.00%,100.00%\n",
      "num,Method,50%,75%,90%,100%\n",
      "15,MAZE,WANDERING,100.00%,100.00%,98.33%,86.67%\n",
      "15,MAZE,GREEDY,100.00%,100.00%,100.00%,96.67%\n",
      "15,MAZE,FRONTIER,100.00%,100.00%,100.00%,98.33%\n",
      "15,MAZE,GREEDY_FRONTIER,100.00%,100.00%,100.00%,100.00%\n",
      "15,MAZE,FRONTIER_ASSIST,100.00%,100.00%,100.00%,100.00%\n",
      "15,MAZE,SCOUT,100.00%,100.00%,100.00%,100.00%\n",
      "15,MAZE,FRONTIER_CENTRAL_GREEDY,100.00%,100.00%,100.00%,98.33%\n",
      "15,MAZE,ZONE_SPLIT,100.00%,100.00%,100.00%,88.33%\n",
      "15,MAZE,ZONE_VORONOI,100.00%,100.00%,100.00%,100.00%\n",
      "num,Method,50%,75%,90%,100%\n",
      "15,O_SHAPE,WANDERING,100.00%,100.00%,98.75%,90.00%\n",
      "15,O_SHAPE,GREEDY,100.00%,100.00%,100.00%,97.50%\n",
      "15,O_SHAPE,FRONTIER,100.00%,100.00%,100.00%,98.75%\n",
      "15,O_SHAPE,GREEDY_FRONTIER,100.00%,100.00%,100.00%,100.00%\n",
      "15,O_SHAPE,FRONTIER_ASSIST,100.00%,100.00%,100.00%,100.00%\n",
      "15,O_SHAPE,SCOUT,100.00%,100.00%,100.00%,100.00%\n",
      "15,O_SHAPE,FRONTIER_CENTRAL_GREEDY,100.00%,100.00%,100.00%,98.75%\n",
      "15,O_SHAPE,ZONE_SPLIT,100.00%,100.00%,100.00%,88.75%\n",
      "15,O_SHAPE,ZONE_VORONOI,100.00%,100.00%,100.00%,100.00%\n",
      "num,Method,50%,75%,90%,100%\n",
      "15,U_SHAPE,WANDERING,100.00%,100.00%,99.00%,92.00%\n",
      "15,U_SHAPE,GREEDY,100.00%,100.00%,100.00%,98.00%\n",
      "15,U_SHAPE,FRONTIER,100.00%,100.00%,100.00%,99.00%\n",
      "15,U_SHAPE,GREEDY_FRONTIER,100.00%,100.00%,100.00%,100.00%\n",
      "15,U_SHAPE,FRONTIER_ASSIST,100.00%,100.00%,100.00%,100.00%\n",
      "15,U_SHAPE,SCOUT,100.00%,100.00%,100.00%,100.00%\n",
      "15,U_SHAPE,FRONTIER_CENTRAL_GREEDY,100.00%,100.00%,100.00%,98.00%\n",
      "15,U_SHAPE,ZONE_SPLIT,100.00%,100.00%,99.00%,90.00%\n",
      "15,U_SHAPE,ZONE_VORONOI,100.00%,100.00%,100.00%,100.00%\n",
      "num,Method,50%,75%,90%,100%\n",
      "15,I_SHAPE,WANDERING,100.00%,100.00%,99.17%,93.33%\n",
      "15,I_SHAPE,GREEDY,100.00%,100.00%,100.00%,98.33%\n",
      "15,I_SHAPE,FRONTIER,100.00%,100.00%,100.00%,99.17%\n",
      "15,I_SHAPE,GREEDY_FRONTIER,100.00%,100.00%,100.00%,100.00%\n",
      "15,I_SHAPE,FRONTIER_ASSIST,100.00%,100.00%,100.00%,100.00%\n",
      "15,I_SHAPE,SCOUT,100.00%,100.00%,100.00%,100.00%\n",
      "15,I_SHAPE,FRONTIER_CENTRAL_GREEDY,100.00%,100.00%,100.00%,98.33%\n",
      "15,I_SHAPE,ZONE_SPLIT,100.00%,100.00%,99.17%,91.67%\n",
      "15,I_SHAPE,ZONE_VORONOI,100.00%,100.00%,100.00%,100.00%\n",
      "num,Method,50%,75%,90%,100%\n",
      "15,ROOM,WANDERING,100.00%,100.00%,99.29%,87.14%\n",
      "15,ROOM,GREEDY,100.00%,100.00%,100.00%,97.86%\n",
      "15,ROOM,FRONTIER,100.00%,100.00%,100.00%,97.86%\n",
      "15,ROOM,GREEDY_FRONTIER,100.00%,100.00%,100.00%,96.43%\n",
      "15,ROOM,FRONTIER_ASSIST,100.00%,100.00%,100.00%,98.57%\n",
      "15,ROOM,SCOUT,100.00%,100.00%,100.00%,98.57%\n",
      "15,ROOM,FRONTIER_CENTRAL_GREEDY,100.00%,100.00%,100.00%,90.71%\n",
      "15,ROOM,ZONE_SPLIT,100.00%,100.00%,99.29%,89.29%\n",
      "15,ROOM,ZONE_VORONOI,100.00%,100.00%,100.00%,100.00%\n",
      "num,Method,50%,75%,90%,100%\n",
      "15,HOUSE,WANDERING,100.00%,100.00%,99.38%,85.62%\n",
      "15,HOUSE,GREEDY,100.00%,100.00%,100.00%,98.12%\n",
      "15,HOUSE,FRONTIER,100.00%,100.00%,100.00%,98.12%\n",
      "15,HOUSE,GREEDY_FRONTIER,100.00%,100.00%,100.00%,96.88%\n",
      "15,HOUSE,FRONTIER_ASSIST,100.00%,100.00%,100.00%,98.75%\n",
      "15,HOUSE,SCOUT,100.00%,100.00%,100.00%,98.75%\n",
      "15,HOUSE,FRONTIER_CENTRAL_GREEDY,100.00%,100.00%,100.00%,91.88%\n",
      "15,HOUSE,ZONE_SPLIT,100.00%,100.00%,99.38%,90.00%\n",
      "15,HOUSE,ZONE_VORONOI,100.00%,100.00%,100.00%,100.00%\n",
      "num,Method,50%,75%,90%,100%\n",
      "15,CAVE,WANDERING,100.00%,100.00%,99.44%,78.89%\n",
      "15,CAVE,GREEDY,100.00%,100.00%,100.00%,97.22%\n",
      "15,CAVE,FRONTIER,100.00%,100.00%,100.00%,97.78%\n",
      "15,CAVE,GREEDY_FRONTIER,100.00%,100.00%,100.00%,97.22%\n",
      "15,CAVE,FRONTIER_ASSIST,100.00%,100.00%,100.00%,98.33%\n",
      "15,CAVE,SCOUT,100.00%,100.00%,100.00%,98.33%\n",
      "15,CAVE,FRONTIER_CENTRAL_GREEDY,100.00%,100.00%,100.00%,87.78%\n",
      "15,CAVE,ZONE_SPLIT,100.00%,100.00%,99.44%,87.22%\n",
      "15,CAVE,ZONE_VORONOI,100.00%,100.00%,100.00%,100.00%\n",
      "num,Method,50%,75%,90%,100%\n",
      "10,PLAIN,WANDERING,100.00%,100.00%,99.50%,79.50%\n",
      "10,PLAIN,GREEDY,100.00%,100.00%,100.00%,97.50%\n",
      "10,PLAIN,FRONTIER,100.00%,100.00%,100.00%,98.00%\n",
      "10,PLAIN,GREEDY_FRONTIER,100.00%,100.00%,100.00%,97.50%\n",
      "10,PLAIN,FRONTIER_ASSIST,100.00%,100.00%,100.00%,98.50%\n",
      "10,PLAIN,SCOUT,100.00%,100.00%,100.00%,98.50%\n",
      "10,PLAIN,FRONTIER_CENTRAL_GREEDY,100.00%,100.00%,100.00%,89.00%\n",
      "10,PLAIN,ZONE_SPLIT,100.00%,100.00%,99.50%,88.50%\n",
      "10,PLAIN,ZONE_VORONOI,100.00%,100.00%,100.00%,100.00%\n",
      "num,Method,50%,75%,90%,100%\n",
      "10,OBSTACLES,WANDERING,100.00%,100.00%,99.55%,78.18%\n",
      "10,OBSTACLES,GREEDY,100.00%,100.00%,100.00%,97.73%\n",
      "10,OBSTACLES,FRONTIER,100.00%,100.00%,100.00%,98.18%\n",
      "10,OBSTACLES,GREEDY_FRONTIER,100.00%,100.00%,100.00%,97.73%\n",
      "10,OBSTACLES,FRONTIER_ASSIST,100.00%,100.00%,100.00%,98.64%\n",
      "10,OBSTACLES,SCOUT,100.00%,100.00%,100.00%,98.64%\n",
      "10,OBSTACLES,FRONTIER_CENTRAL_GREEDY,100.00%,100.00%,100.00%,89.55%\n",
      "10,OBSTACLES,ZONE_SPLIT,100.00%,100.00%,99.09%,88.18%\n",
      "10,OBSTACLES,ZONE_VORONOI,100.00%,100.00%,100.00%,100.00%\n",
      "num,Method,50%,75%,90%,100%\n",
      "10,MAZE,WANDERING,100.00%,100.00%,98.75%,74.17%\n",
      "10,MAZE,GREEDY,100.00%,100.00%,99.58%,96.25%\n",
      "10,MAZE,FRONTIER,100.00%,100.00%,100.00%,98.33%\n",
      "10,MAZE,GREEDY_FRONTIER,100.00%,100.00%,100.00%,97.92%\n",
      "10,MAZE,FRONTIER_ASSIST,100.00%,100.00%,100.00%,98.75%\n",
      "10,MAZE,SCOUT,100.00%,100.00%,100.00%,98.75%\n",
      "10,MAZE,FRONTIER_CENTRAL_GREEDY,100.00%,100.00%,100.00%,90.00%\n",
      "10,MAZE,ZONE_SPLIT,100.00%,100.00%,99.17%,88.33%\n",
      "10,MAZE,ZONE_VORONOI,100.00%,100.00%,100.00%,100.00%\n",
      "num,Method,50%,75%,90%,100%\n",
      "10,O_SHAPE,WANDERING,100.00%,100.00%,98.85%,76.15%\n",
      "10,O_SHAPE,GREEDY,100.00%,100.00%,99.62%,96.54%\n",
      "10,O_SHAPE,FRONTIER,100.00%,100.00%,100.00%,98.46%\n",
      "10,O_SHAPE,GREEDY_FRONTIER,100.00%,100.00%,100.00%,98.08%\n",
      "10,O_SHAPE,FRONTIER_ASSIST,100.00%,100.00%,100.00%,98.85%\n",
      "10,O_SHAPE,SCOUT,100.00%,100.00%,100.00%,98.85%\n",
      "10,O_SHAPE,FRONTIER_CENTRAL_GREEDY,100.00%,100.00%,100.00%,90.38%\n",
      "10,O_SHAPE,ZONE_SPLIT,100.00%,100.00%,99.23%,89.23%\n",
      "10,O_SHAPE,ZONE_VORONOI,100.00%,100.00%,100.00%,100.00%\n",
      "num,Method,50%,75%,90%,100%\n",
      "10,U_SHAPE,WANDERING,100.00%,100.00%,98.93%,76.79%\n",
      "10,U_SHAPE,GREEDY,100.00%,100.00%,99.64%,96.79%\n",
      "10,U_SHAPE,FRONTIER,100.00%,100.00%,100.00%,98.57%\n",
      "10,U_SHAPE,GREEDY_FRONTIER,100.00%,100.00%,100.00%,98.21%\n",
      "10,U_SHAPE,FRONTIER_ASSIST,100.00%,100.00%,100.00%,98.93%\n",
      "10,U_SHAPE,SCOUT,100.00%,100.00%,100.00%,98.93%\n",
      "10,U_SHAPE,FRONTIER_CENTRAL_GREEDY,100.00%,100.00%,100.00%,91.07%\n",
      "10,U_SHAPE,ZONE_SPLIT,100.00%,100.00%,99.29%,90.00%\n",
      "10,U_SHAPE,ZONE_VORONOI,100.00%,100.00%,100.00%,100.00%\n",
      "num,Method,50%,75%,90%,100%\n",
      "10,I_SHAPE,WANDERING,100.00%,100.00%,99.00%,78.00%\n",
      "10,I_SHAPE,GREEDY,100.00%,100.00%,99.67%,97.00%\n",
      "10,I_SHAPE,FRONTIER,100.00%,100.00%,100.00%,98.67%\n",
      "10,I_SHAPE,GREEDY_FRONTIER,100.00%,100.00%,100.00%,98.33%\n",
      "10,I_SHAPE,FRONTIER_ASSIST,100.00%,100.00%,100.00%,99.00%\n",
      "10,I_SHAPE,SCOUT,100.00%,100.00%,100.00%,99.00%\n",
      "10,I_SHAPE,FRONTIER_CENTRAL_GREEDY,100.00%,100.00%,100.00%,91.33%\n",
      "10,I_SHAPE,ZONE_SPLIT,100.00%,100.00%,99.33%,90.33%\n",
      "10,I_SHAPE,ZONE_VORONOI,100.00%,100.00%,100.00%,100.00%\n",
      "num,Method,50%,75%,90%,100%\n",
      "10,ROOM,WANDERING,100.00%,100.00%,99.06%,73.44%\n",
      "10,ROOM,GREEDY,100.00%,100.00%,99.69%,96.88%\n",
      "10,ROOM,FRONTIER,100.00%,100.00%,100.00%,98.75%\n",
      "10,ROOM,GREEDY_FRONTIER,100.00%,100.00%,100.00%,96.56%\n",
      "10,ROOM,FRONTIER_ASSIST,100.00%,100.00%,100.00%,99.06%\n",
      "10,ROOM,SCOUT,100.00%,100.00%,100.00%,98.75%\n",
      "10,ROOM,FRONTIER_CENTRAL_GREEDY,100.00%,100.00%,100.00%,89.06%\n",
      "10,ROOM,ZONE_SPLIT,100.00%,100.00%,98.75%,87.50%\n",
      "10,ROOM,ZONE_VORONOI,100.00%,100.00%,100.00%,100.00%\n",
      "num,Method,50%,75%,90%,100%\n",
      "10,HOUSE,WANDERING,100.00%,100.00%,99.12%,71.18%\n",
      "10,HOUSE,GREEDY,100.00%,100.00%,99.71%,97.06%\n",
      "10,HOUSE,FRONTIER,100.00%,100.00%,100.00%,98.82%\n",
      "10,HOUSE,GREEDY_FRONTIER,100.00%,100.00%,100.00%,96.76%\n",
      "10,HOUSE,FRONTIER_ASSIST,100.00%,100.00%,100.00%,99.12%\n",
      "10,HOUSE,SCOUT,100.00%,100.00%,100.00%,98.82%\n",
      "10,HOUSE,FRONTIER_CENTRAL_GREEDY,100.00%,100.00%,100.00%,89.71%\n",
      "10,HOUSE,ZONE_SPLIT,100.00%,100.00%,98.82%,88.24%\n",
      "10,HOUSE,ZONE_VORONOI,100.00%,100.00%,100.00%,100.00%\n",
      "num,Method,50%,75%,90%,100%\n",
      "10,CAVE,WANDERING,100.00%,100.00%,98.89%,67.22%\n",
      "10,CAVE,GREEDY,100.00%,100.00%,99.44%,95.56%\n",
      "10,CAVE,FRONTIER,100.00%,100.00%,100.00%,98.89%\n",
      "10,CAVE,GREEDY_FRONTIER,100.00%,100.00%,100.00%,96.11%\n",
      "10,CAVE,FRONTIER_ASSIST,100.00%,100.00%,100.00%,99.17%\n",
      "10,CAVE,SCOUT,100.00%,99.72%,99.72%,98.61%\n",
      "10,CAVE,FRONTIER_CENTRAL_GREEDY,100.00%,100.00%,100.00%,90.00%\n",
      "10,CAVE,ZONE_SPLIT,100.00%,100.00%,98.89%,88.61%\n",
      "10,CAVE,ZONE_VORONOI,100.00%,100.00%,100.00%,100.00%\n",
      "num,Method,50%,75%,90%,100%\n",
      "5,PLAIN,WANDERING,100.00%,100.00%,98.95%,65.00%\n",
      "5,PLAIN,GREEDY,100.00%,100.00%,99.47%,95.79%\n",
      "5,PLAIN,FRONTIER,100.00%,100.00%,100.00%,98.95%\n",
      "5,PLAIN,GREEDY_FRONTIER,100.00%,100.00%,100.00%,96.32%\n",
      "5,PLAIN,FRONTIER_ASSIST,100.00%,100.00%,100.00%,99.21%\n",
      "5,PLAIN,SCOUT,100.00%,99.74%,99.74%,98.68%\n",
      "5,PLAIN,FRONTIER_CENTRAL_GREEDY,100.00%,100.00%,100.00%,90.53%\n",
      "5,PLAIN,ZONE_SPLIT,100.00%,100.00%,98.95%,89.21%\n",
      "5,PLAIN,ZONE_VORONOI,100.00%,100.00%,100.00%,100.00%\n",
      "num,Method,50%,75%,90%,100%\n",
      "5,OBSTACLES,WANDERING,100.00%,100.00%,98.50%,62.25%\n",
      "5,OBSTACLES,GREEDY,100.00%,100.00%,99.50%,94.75%\n",
      "5,OBSTACLES,FRONTIER,100.00%,100.00%,100.00%,98.75%\n",
      "5,OBSTACLES,GREEDY_FRONTIER,100.00%,100.00%,100.00%,96.50%\n",
      "5,OBSTACLES,FRONTIER_ASSIST,100.00%,100.00%,100.00%,99.00%\n",
      "5,OBSTACLES,SCOUT,100.00%,99.75%,99.75%,98.75%\n",
      "5,OBSTACLES,FRONTIER_CENTRAL_GREEDY,100.00%,100.00%,100.00%,91.00%\n",
      "5,OBSTACLES,ZONE_SPLIT,100.00%,100.00%,99.00%,89.75%\n",
      "5,OBSTACLES,ZONE_VORONOI,100.00%,100.00%,100.00%,100.00%\n",
      "num,Method,50%,75%,90%,100%\n",
      "5,MAZE,WANDERING,100.00%,99.05%,95.24%,59.29%\n",
      "5,MAZE,GREEDY,100.00%,100.00%,99.29%,92.14%\n",
      "5,MAZE,FRONTIER,100.00%,100.00%,100.00%,98.81%\n",
      "5,MAZE,GREEDY_FRONTIER,100.00%,100.00%,100.00%,96.67%\n",
      "5,MAZE,FRONTIER_ASSIST,100.00%,100.00%,100.00%,99.05%\n",
      "5,MAZE,SCOUT,100.00%,99.76%,99.76%,98.81%\n",
      "5,MAZE,FRONTIER_CENTRAL_GREEDY,100.00%,100.00%,100.00%,91.43%\n",
      "5,MAZE,ZONE_SPLIT,100.00%,100.00%,99.05%,90.24%\n",
      "5,MAZE,ZONE_VORONOI,100.00%,100.00%,100.00%,100.00%\n",
      "num,Method,50%,75%,90%,100%\n",
      "5,O_SHAPE,WANDERING,100.00%,99.09%,95.45%,60.45%\n",
      "5,O_SHAPE,GREEDY,100.00%,100.00%,99.32%,92.50%\n",
      "5,O_SHAPE,FRONTIER,100.00%,100.00%,100.00%,98.86%\n",
      "5,O_SHAPE,GREEDY_FRONTIER,100.00%,100.00%,100.00%,96.82%\n",
      "5,O_SHAPE,FRONTIER_ASSIST,100.00%,100.00%,100.00%,99.09%\n",
      "5,O_SHAPE,SCOUT,100.00%,99.77%,99.77%,98.86%\n",
      "5,O_SHAPE,FRONTIER_CENTRAL_GREEDY,100.00%,100.00%,100.00%,91.82%\n",
      "5,O_SHAPE,ZONE_SPLIT,100.00%,100.00%,99.09%,90.68%\n",
      "5,O_SHAPE,ZONE_VORONOI,100.00%,100.00%,100.00%,100.00%\n",
      "num,Method,50%,75%,90%,100%\n",
      "5,U_SHAPE,WANDERING,100.00%,99.13%,95.65%,59.35%\n",
      "5,U_SHAPE,GREEDY,100.00%,100.00%,99.35%,92.83%\n",
      "5,U_SHAPE,FRONTIER,100.00%,100.00%,100.00%,98.91%\n",
      "5,U_SHAPE,GREEDY_FRONTIER,100.00%,100.00%,100.00%,96.74%\n",
      "5,U_SHAPE,FRONTIER_ASSIST,100.00%,100.00%,100.00%,99.13%\n",
      "5,U_SHAPE,SCOUT,100.00%,99.78%,99.78%,98.91%\n",
      "5,U_SHAPE,FRONTIER_CENTRAL_GREEDY,100.00%,100.00%,100.00%,92.17%\n",
      "5,U_SHAPE,ZONE_SPLIT,100.00%,100.00%,99.13%,91.09%\n",
      "5,U_SHAPE,ZONE_VORONOI,100.00%,100.00%,100.00%,100.00%\n",
      "num,Method,50%,75%,90%,100%\n",
      "5,I_SHAPE,WANDERING,100.00%,99.17%,95.62%,58.33%\n",
      "5,I_SHAPE,GREEDY,100.00%,100.00%,99.38%,93.12%\n",
      "5,I_SHAPE,FRONTIER,100.00%,100.00%,100.00%,98.96%\n",
      "5,I_SHAPE,GREEDY_FRONTIER,100.00%,100.00%,100.00%,96.88%\n",
      "5,I_SHAPE,FRONTIER_ASSIST,100.00%,100.00%,100.00%,99.17%\n",
      "5,I_SHAPE,SCOUT,100.00%,99.79%,99.79%,98.96%\n",
      "5,I_SHAPE,FRONTIER_CENTRAL_GREEDY,100.00%,100.00%,100.00%,92.50%\n",
      "5,I_SHAPE,ZONE_SPLIT,100.00%,100.00%,99.17%,91.25%\n",
      "5,I_SHAPE,ZONE_VORONOI,100.00%,100.00%,100.00%,100.00%\n",
      "num,Method,50%,75%,90%,100%\n",
      "5,ROOM,WANDERING,100.00%,98.60%,93.20%,56.00%\n",
      "5,ROOM,GREEDY,100.00%,100.00%,99.20%,91.40%\n",
      "5,ROOM,FRONTIER,100.00%,100.00%,100.00%,99.00%\n",
      "5,ROOM,GREEDY_FRONTIER,100.00%,100.00%,100.00%,96.80%\n",
      "5,ROOM,FRONTIER_ASSIST,100.00%,100.00%,100.00%,99.20%\n",
      "5,ROOM,SCOUT,100.00%,99.80%,99.80%,99.00%\n",
      "5,ROOM,FRONTIER_CENTRAL_GREEDY,100.00%,100.00%,100.00%,92.20%\n",
      "5,ROOM,ZONE_SPLIT,100.00%,100.00%,99.20%,91.60%\n",
      "5,ROOM,ZONE_VORONOI,100.00%,100.00%,100.00%,100.00%\n",
      "num,Method,50%,75%,90%,100%\n",
      "5,HOUSE,WANDERING,100.00%,98.65%,91.92%,53.85%\n",
      "5,HOUSE,GREEDY,100.00%,99.62%,98.65%,90.38%\n",
      "5,HOUSE,FRONTIER,100.00%,100.00%,100.00%,99.04%\n",
      "5,HOUSE,GREEDY_FRONTIER,100.00%,100.00%,100.00%,96.92%\n",
      "5,HOUSE,FRONTIER_ASSIST,100.00%,100.00%,100.00%,99.23%\n",
      "5,HOUSE,SCOUT,100.00%,99.81%,99.81%,99.04%\n",
      "5,HOUSE,FRONTIER_CENTRAL_GREEDY,100.00%,100.00%,100.00%,92.50%\n",
      "5,HOUSE,ZONE_SPLIT,100.00%,100.00%,99.23%,91.92%\n",
      "5,HOUSE,ZONE_VORONOI,100.00%,100.00%,100.00%,100.00%\n",
      "num,Method,50%,75%,90%,100%\n",
      "5,CAVE,WANDERING,100.00%,97.78%,88.70%,51.85%\n",
      "5,CAVE,GREEDY,100.00%,99.44%,98.15%,88.52%\n",
      "5,CAVE,FRONTIER,100.00%,100.00%,100.00%,98.70%\n",
      "5,CAVE,GREEDY_FRONTIER,100.00%,100.00%,100.00%,97.04%\n",
      "5,CAVE,FRONTIER_ASSIST,100.00%,100.00%,100.00%,98.89%\n",
      "5,CAVE,SCOUT,100.00%,99.81%,99.81%,99.07%\n",
      "5,CAVE,FRONTIER_CENTRAL_GREEDY,100.00%,100.00%,100.00%,91.85%\n",
      "5,CAVE,ZONE_SPLIT,100.00%,100.00%,99.26%,92.22%\n",
      "5,CAVE,ZONE_VORONOI,100.00%,100.00%,100.00%,100.00%\n"
     ]
    }
   ],
   "source": [
    "# Success rate (fully explore)\n",
    "\n",
    "\n",
    "def getSuccessRate(df: pd.DataFrame, columnName):\n",
    "    return len(df[df[columnName] >= 0]) / len(df) * 100\n",
    "\n",
    "\n",
    "with open(\"result_coverage.csv\", \"w\") as f:\n",
    "    f.write(\n",
    "        \",\".join(\n",
    "            [\n",
    "                \"num\",\n",
    "                \"layout\",\n",
    "                \"Method\",\n",
    "                \"Coverage 50%\",\n",
    "                \"Coverage 75%\",\n",
    "                \"Coverage 90%\",\n",
    "                \"Coverage 100%\",\n",
    "            ]\n",
    "        )\n",
    "    )\n",
    "    f.write(\"\\n\")\n",
    "\n",
    "    frames = []\n",
    "    for num in [15, 10, 5]:\n",
    "        for layout in LayoutType.getExperimentLayout():\n",
    "            df = pd.read_csv(f\"experimentResults/experiment_{layout.name}_{num}.csv\")\n",
    "            frames.append(df)\n",
    "\n",
    "            df_concat = pd.concat(frames)\n",
    "\n",
    "            print(f\"num,Method,50%,75%,90%,100%\")\n",
    "            for behaviour in BehaviourType.getExperimentBehaviourType():\n",
    "                df_behav = df_concat[df_concat[\"Behaviour\"] == behaviour.name]\n",
    "                successRate50 = getSuccessRate(df_behav, \"total50\")\n",
    "                successRate75 = getSuccessRate(df_behav, \"total75\")\n",
    "                successRate90 = getSuccessRate(df_behav, \"total90\")\n",
    "                successRate100 = getSuccessRate(df_behav, \"total100\")\n",
    "                print(\n",
    "                    f\"{num},{layout.name},{behaviour.name},{successRate50:.2f}%,{successRate75:.2f}%,{successRate90:.2f}%,{successRate100:.2f}%\"\n",
    "                )\n",
    "                f.write(f\"{num},{layout.name},{behaviour.name},{successRate50:.2f}%,{successRate75:.2f}%,{successRate90:.2f}%,{successRate100:.2f}%\")\n",
    "                f.write(\"\\n\")"
   ]
  },
  {
   "cell_type": "code",
   "execution_count": 35,
   "metadata": {},
   "outputs": [],
   "source": [
    "import numpy as np\n",
    "\n",
    "behaviourNames = [\n",
    "    behaviour.name for behaviour in BehaviourType.getExperimentBehaviourType()\n",
    "]\n",
    "\n",
    "means = {}\n",
    "stds = {}\n",
    "\n",
    "with open(\"result_mean_std.csv\", \"w\") as f:\n",
    "    f.write(\",\".join([\"num\", \"layout\", \"percent\"] + behaviourNames))\n",
    "    f.write(\"\\n\")\n",
    "\n",
    "    for num in [15, 10, 5]:\n",
    "        for layout in LayoutType.getExperimentLayout():\n",
    "            df = pd.read_csv(f\"experimentResults/experiment_{layout.name}_{num}.csv\")\n",
    "            df = df.replace(-1, np.nan)\n",
    "\n",
    "            for percent in [\"total50\", \"total75\", \"total90\", \"total100\"]:\n",
    "                means[percent] = []\n",
    "                stds[percent] = []\n",
    "                for behaviourName in behaviourNames:\n",
    "                    df_behav = df[df[\"Behaviour\"] == behaviourName]\n",
    "                    means[percent].append(df_behav[percent].mean())\n",
    "                    stds[percent].append(df_behav[percent].std())\n",
    "\n",
    "                meanStds = [\n",
    "                    meanI + stdI for meanI, stdI in zip(means[percent], stds[percent])\n",
    "                ]\n",
    "\n",
    "                row = \",\".join(\n",
    "                    [str(num), str(layout.name), percent]\n",
    "                    + [\n",
    "                        f\"{meanI:.2f}+{stdI:.2f}\"\n",
    "                        for meanI, stdI in zip(means[percent], stds[percent])\n",
    "                    ]\n",
    "                )\n",
    "\n",
    "                f.write(row)\n",
    "                f.write(\"\\n\")"
   ]
  },
  {
   "cell_type": "code",
   "execution_count": 33,
   "metadata": {},
   "outputs": [
    {
     "data": {
      "application/vnd.plotly.v1+json": {
       "config": {
        "plotlyServerURL": "https://plot.ly"
       },
       "data": [
        {
         "alignmentgroup": "True",
         "hovertemplate": "Coverage=50%<br>Behaviour=%{x}<br>Moves=%{y}<extra></extra>",
         "legendgroup": "50%",
         "marker": {
          "color": "#636efa"
         },
         "name": "50%",
         "notched": false,
         "offsetgroup": "50%",
         "orientation": "v",
         "showlegend": true,
         "type": "box",
         "x": [
          "WANDERING",
          "GREEDY",
          "WANDERING",
          "GREEDY",
          "WANDERING",
          "WANDERING",
          "GREEDY",
          "WANDERING",
          "GREEDY",
          "WANDERING",
          "WANDERING",
          "GREEDY",
          "GREEDY",
          "WANDERING",
          "GREEDY",
          "WANDERING",
          "GREEDY",
          "WANDERING",
          "GREEDY",
          "GREEDY"
         ],
         "x0": " ",
         "xaxis": "x",
         "y": [
          151,
          39,
          147,
          34,
          107,
          139,
          39,
          132,
          48,
          97,
          147,
          36,
          35,
          111,
          36,
          113,
          33,
          120,
          42,
          36
         ],
         "y0": " ",
         "yaxis": "y"
        },
        {
         "alignmentgroup": "True",
         "hovertemplate": "Coverage=75%<br>Behaviour=%{x}<br>Moves=%{y}<extra></extra>",
         "legendgroup": "75%",
         "marker": {
          "color": "#EF553B"
         },
         "name": "75%",
         "notched": false,
         "offsetgroup": "75%",
         "orientation": "v",
         "showlegend": true,
         "type": "box",
         "x": [
          "WANDERING",
          "GREEDY",
          "WANDERING",
          "GREEDY",
          "WANDERING",
          "WANDERING",
          "GREEDY",
          "WANDERING",
          "GREEDY",
          "WANDERING",
          "WANDERING",
          "GREEDY",
          "GREEDY",
          "WANDERING",
          "GREEDY",
          "WANDERING",
          "GREEDY",
          "WANDERING",
          "GREEDY",
          "GREEDY"
         ],
         "x0": " ",
         "xaxis": "x",
         "y": [
          228,
          77,
          246,
          52,
          187,
          221,
          58,
          216,
          64,
          210,
          276,
          49,
          48,
          171,
          54,
          198,
          45,
          192,
          75,
          69
         ],
         "y0": " ",
         "yaxis": "y"
        },
        {
         "alignmentgroup": "True",
         "hovertemplate": "Coverage=90%<br>Behaviour=%{x}<br>Moves=%{y}<extra></extra>",
         "legendgroup": "90%",
         "marker": {
          "color": "#00cc96"
         },
         "name": "90%",
         "notched": false,
         "offsetgroup": "90%",
         "orientation": "v",
         "showlegend": true,
         "type": "box",
         "x": [
          "WANDERING",
          "GREEDY",
          "WANDERING",
          "GREEDY",
          "WANDERING",
          "WANDERING",
          "GREEDY",
          "WANDERING",
          "GREEDY",
          "WANDERING",
          "WANDERING",
          "GREEDY",
          "GREEDY",
          "WANDERING",
          "GREEDY",
          "WANDERING",
          "GREEDY",
          "WANDERING",
          "GREEDY",
          "GREEDY"
         ],
         "x0": " ",
         "xaxis": "x",
         "y": [
          532,
          472,
          625,
          225,
          721,
          580,
          153,
          643,
          195,
          543,
          659,
          239,
          142,
          680,
          242,
          667,
          175,
          542,
          354,
          182
         ],
         "y0": " ",
         "yaxis": "y"
        },
        {
         "alignmentgroup": "True",
         "hovertemplate": "Coverage=100%<br>Behaviour=%{x}<br>Moves=%{y}<extra></extra>",
         "legendgroup": "100%",
         "marker": {
          "color": "#ab63fa"
         },
         "name": "100%",
         "notched": false,
         "offsetgroup": "100%",
         "orientation": "v",
         "showlegend": true,
         "type": "box",
         "x": [
          "WANDERING",
          "GREEDY",
          "WANDERING",
          "GREEDY",
          "WANDERING",
          "WANDERING",
          "GREEDY",
          "WANDERING",
          "GREEDY",
          "WANDERING",
          "WANDERING",
          "GREEDY",
          "GREEDY",
          "WANDERING",
          "GREEDY",
          "WANDERING",
          "GREEDY",
          "WANDERING",
          "GREEDY",
          "GREEDY"
         ],
         "x0": " ",
         "xaxis": "x",
         "y": [
          533,
          473,
          626,
          226,
          722,
          581,
          154,
          644,
          196,
          544,
          660,
          240,
          143,
          681,
          243,
          668,
          176,
          543,
          355,
          183
         ],
         "y0": " ",
         "yaxis": "y"
        }
       ],
       "layout": {
        "boxmode": "group",
        "legend": {
         "title": {
          "text": "Coverage"
         },
         "tracegroupgap": 0
        },
        "margin": {
         "t": 60
        },
        "template": {
         "data": {
          "bar": [
           {
            "error_x": {
             "color": "#2a3f5f"
            },
            "error_y": {
             "color": "#2a3f5f"
            },
            "marker": {
             "line": {
              "color": "#E5ECF6",
              "width": 0.5
             },
             "pattern": {
              "fillmode": "overlay",
              "size": 10,
              "solidity": 0.2
             }
            },
            "type": "bar"
           }
          ],
          "barpolar": [
           {
            "marker": {
             "line": {
              "color": "#E5ECF6",
              "width": 0.5
             },
             "pattern": {
              "fillmode": "overlay",
              "size": 10,
              "solidity": 0.2
             }
            },
            "type": "barpolar"
           }
          ],
          "carpet": [
           {
            "aaxis": {
             "endlinecolor": "#2a3f5f",
             "gridcolor": "white",
             "linecolor": "white",
             "minorgridcolor": "white",
             "startlinecolor": "#2a3f5f"
            },
            "baxis": {
             "endlinecolor": "#2a3f5f",
             "gridcolor": "white",
             "linecolor": "white",
             "minorgridcolor": "white",
             "startlinecolor": "#2a3f5f"
            },
            "type": "carpet"
           }
          ],
          "choropleth": [
           {
            "colorbar": {
             "outlinewidth": 0,
             "ticks": ""
            },
            "type": "choropleth"
           }
          ],
          "contour": [
           {
            "colorbar": {
             "outlinewidth": 0,
             "ticks": ""
            },
            "colorscale": [
             [
              0,
              "#0d0887"
             ],
             [
              0.1111111111111111,
              "#46039f"
             ],
             [
              0.2222222222222222,
              "#7201a8"
             ],
             [
              0.3333333333333333,
              "#9c179e"
             ],
             [
              0.4444444444444444,
              "#bd3786"
             ],
             [
              0.5555555555555556,
              "#d8576b"
             ],
             [
              0.6666666666666666,
              "#ed7953"
             ],
             [
              0.7777777777777778,
              "#fb9f3a"
             ],
             [
              0.8888888888888888,
              "#fdca26"
             ],
             [
              1,
              "#f0f921"
             ]
            ],
            "type": "contour"
           }
          ],
          "contourcarpet": [
           {
            "colorbar": {
             "outlinewidth": 0,
             "ticks": ""
            },
            "type": "contourcarpet"
           }
          ],
          "heatmap": [
           {
            "colorbar": {
             "outlinewidth": 0,
             "ticks": ""
            },
            "colorscale": [
             [
              0,
              "#0d0887"
             ],
             [
              0.1111111111111111,
              "#46039f"
             ],
             [
              0.2222222222222222,
              "#7201a8"
             ],
             [
              0.3333333333333333,
              "#9c179e"
             ],
             [
              0.4444444444444444,
              "#bd3786"
             ],
             [
              0.5555555555555556,
              "#d8576b"
             ],
             [
              0.6666666666666666,
              "#ed7953"
             ],
             [
              0.7777777777777778,
              "#fb9f3a"
             ],
             [
              0.8888888888888888,
              "#fdca26"
             ],
             [
              1,
              "#f0f921"
             ]
            ],
            "type": "heatmap"
           }
          ],
          "heatmapgl": [
           {
            "colorbar": {
             "outlinewidth": 0,
             "ticks": ""
            },
            "colorscale": [
             [
              0,
              "#0d0887"
             ],
             [
              0.1111111111111111,
              "#46039f"
             ],
             [
              0.2222222222222222,
              "#7201a8"
             ],
             [
              0.3333333333333333,
              "#9c179e"
             ],
             [
              0.4444444444444444,
              "#bd3786"
             ],
             [
              0.5555555555555556,
              "#d8576b"
             ],
             [
              0.6666666666666666,
              "#ed7953"
             ],
             [
              0.7777777777777778,
              "#fb9f3a"
             ],
             [
              0.8888888888888888,
              "#fdca26"
             ],
             [
              1,
              "#f0f921"
             ]
            ],
            "type": "heatmapgl"
           }
          ],
          "histogram": [
           {
            "marker": {
             "pattern": {
              "fillmode": "overlay",
              "size": 10,
              "solidity": 0.2
             }
            },
            "type": "histogram"
           }
          ],
          "histogram2d": [
           {
            "colorbar": {
             "outlinewidth": 0,
             "ticks": ""
            },
            "colorscale": [
             [
              0,
              "#0d0887"
             ],
             [
              0.1111111111111111,
              "#46039f"
             ],
             [
              0.2222222222222222,
              "#7201a8"
             ],
             [
              0.3333333333333333,
              "#9c179e"
             ],
             [
              0.4444444444444444,
              "#bd3786"
             ],
             [
              0.5555555555555556,
              "#d8576b"
             ],
             [
              0.6666666666666666,
              "#ed7953"
             ],
             [
              0.7777777777777778,
              "#fb9f3a"
             ],
             [
              0.8888888888888888,
              "#fdca26"
             ],
             [
              1,
              "#f0f921"
             ]
            ],
            "type": "histogram2d"
           }
          ],
          "histogram2dcontour": [
           {
            "colorbar": {
             "outlinewidth": 0,
             "ticks": ""
            },
            "colorscale": [
             [
              0,
              "#0d0887"
             ],
             [
              0.1111111111111111,
              "#46039f"
             ],
             [
              0.2222222222222222,
              "#7201a8"
             ],
             [
              0.3333333333333333,
              "#9c179e"
             ],
             [
              0.4444444444444444,
              "#bd3786"
             ],
             [
              0.5555555555555556,
              "#d8576b"
             ],
             [
              0.6666666666666666,
              "#ed7953"
             ],
             [
              0.7777777777777778,
              "#fb9f3a"
             ],
             [
              0.8888888888888888,
              "#fdca26"
             ],
             [
              1,
              "#f0f921"
             ]
            ],
            "type": "histogram2dcontour"
           }
          ],
          "mesh3d": [
           {
            "colorbar": {
             "outlinewidth": 0,
             "ticks": ""
            },
            "type": "mesh3d"
           }
          ],
          "parcoords": [
           {
            "line": {
             "colorbar": {
              "outlinewidth": 0,
              "ticks": ""
             }
            },
            "type": "parcoords"
           }
          ],
          "pie": [
           {
            "automargin": true,
            "type": "pie"
           }
          ],
          "scatter": [
           {
            "fillpattern": {
             "fillmode": "overlay",
             "size": 10,
             "solidity": 0.2
            },
            "type": "scatter"
           }
          ],
          "scatter3d": [
           {
            "line": {
             "colorbar": {
              "outlinewidth": 0,
              "ticks": ""
             }
            },
            "marker": {
             "colorbar": {
              "outlinewidth": 0,
              "ticks": ""
             }
            },
            "type": "scatter3d"
           }
          ],
          "scattercarpet": [
           {
            "marker": {
             "colorbar": {
              "outlinewidth": 0,
              "ticks": ""
             }
            },
            "type": "scattercarpet"
           }
          ],
          "scattergeo": [
           {
            "marker": {
             "colorbar": {
              "outlinewidth": 0,
              "ticks": ""
             }
            },
            "type": "scattergeo"
           }
          ],
          "scattergl": [
           {
            "marker": {
             "colorbar": {
              "outlinewidth": 0,
              "ticks": ""
             }
            },
            "type": "scattergl"
           }
          ],
          "scattermapbox": [
           {
            "marker": {
             "colorbar": {
              "outlinewidth": 0,
              "ticks": ""
             }
            },
            "type": "scattermapbox"
           }
          ],
          "scatterpolar": [
           {
            "marker": {
             "colorbar": {
              "outlinewidth": 0,
              "ticks": ""
             }
            },
            "type": "scatterpolar"
           }
          ],
          "scatterpolargl": [
           {
            "marker": {
             "colorbar": {
              "outlinewidth": 0,
              "ticks": ""
             }
            },
            "type": "scatterpolargl"
           }
          ],
          "scatterternary": [
           {
            "marker": {
             "colorbar": {
              "outlinewidth": 0,
              "ticks": ""
             }
            },
            "type": "scatterternary"
           }
          ],
          "surface": [
           {
            "colorbar": {
             "outlinewidth": 0,
             "ticks": ""
            },
            "colorscale": [
             [
              0,
              "#0d0887"
             ],
             [
              0.1111111111111111,
              "#46039f"
             ],
             [
              0.2222222222222222,
              "#7201a8"
             ],
             [
              0.3333333333333333,
              "#9c179e"
             ],
             [
              0.4444444444444444,
              "#bd3786"
             ],
             [
              0.5555555555555556,
              "#d8576b"
             ],
             [
              0.6666666666666666,
              "#ed7953"
             ],
             [
              0.7777777777777778,
              "#fb9f3a"
             ],
             [
              0.8888888888888888,
              "#fdca26"
             ],
             [
              1,
              "#f0f921"
             ]
            ],
            "type": "surface"
           }
          ],
          "table": [
           {
            "cells": {
             "fill": {
              "color": "#EBF0F8"
             },
             "line": {
              "color": "white"
             }
            },
            "header": {
             "fill": {
              "color": "#C8D4E3"
             },
             "line": {
              "color": "white"
             }
            },
            "type": "table"
           }
          ]
         },
         "layout": {
          "annotationdefaults": {
           "arrowcolor": "#2a3f5f",
           "arrowhead": 0,
           "arrowwidth": 1
          },
          "autotypenumbers": "strict",
          "coloraxis": {
           "colorbar": {
            "outlinewidth": 0,
            "ticks": ""
           }
          },
          "colorscale": {
           "diverging": [
            [
             0,
             "#8e0152"
            ],
            [
             0.1,
             "#c51b7d"
            ],
            [
             0.2,
             "#de77ae"
            ],
            [
             0.3,
             "#f1b6da"
            ],
            [
             0.4,
             "#fde0ef"
            ],
            [
             0.5,
             "#f7f7f7"
            ],
            [
             0.6,
             "#e6f5d0"
            ],
            [
             0.7,
             "#b8e186"
            ],
            [
             0.8,
             "#7fbc41"
            ],
            [
             0.9,
             "#4d9221"
            ],
            [
             1,
             "#276419"
            ]
           ],
           "sequential": [
            [
             0,
             "#0d0887"
            ],
            [
             0.1111111111111111,
             "#46039f"
            ],
            [
             0.2222222222222222,
             "#7201a8"
            ],
            [
             0.3333333333333333,
             "#9c179e"
            ],
            [
             0.4444444444444444,
             "#bd3786"
            ],
            [
             0.5555555555555556,
             "#d8576b"
            ],
            [
             0.6666666666666666,
             "#ed7953"
            ],
            [
             0.7777777777777778,
             "#fb9f3a"
            ],
            [
             0.8888888888888888,
             "#fdca26"
            ],
            [
             1,
             "#f0f921"
            ]
           ],
           "sequentialminus": [
            [
             0,
             "#0d0887"
            ],
            [
             0.1111111111111111,
             "#46039f"
            ],
            [
             0.2222222222222222,
             "#7201a8"
            ],
            [
             0.3333333333333333,
             "#9c179e"
            ],
            [
             0.4444444444444444,
             "#bd3786"
            ],
            [
             0.5555555555555556,
             "#d8576b"
            ],
            [
             0.6666666666666666,
             "#ed7953"
            ],
            [
             0.7777777777777778,
             "#fb9f3a"
            ],
            [
             0.8888888888888888,
             "#fdca26"
            ],
            [
             1,
             "#f0f921"
            ]
           ]
          },
          "colorway": [
           "#636efa",
           "#EF553B",
           "#00cc96",
           "#ab63fa",
           "#FFA15A",
           "#19d3f3",
           "#FF6692",
           "#B6E880",
           "#FF97FF",
           "#FECB52"
          ],
          "font": {
           "color": "#2a3f5f"
          },
          "geo": {
           "bgcolor": "white",
           "lakecolor": "white",
           "landcolor": "#E5ECF6",
           "showlakes": true,
           "showland": true,
           "subunitcolor": "white"
          },
          "hoverlabel": {
           "align": "left"
          },
          "hovermode": "closest",
          "mapbox": {
           "style": "light"
          },
          "paper_bgcolor": "white",
          "plot_bgcolor": "#E5ECF6",
          "polar": {
           "angularaxis": {
            "gridcolor": "white",
            "linecolor": "white",
            "ticks": ""
           },
           "bgcolor": "#E5ECF6",
           "radialaxis": {
            "gridcolor": "white",
            "linecolor": "white",
            "ticks": ""
           }
          },
          "scene": {
           "xaxis": {
            "backgroundcolor": "#E5ECF6",
            "gridcolor": "white",
            "gridwidth": 2,
            "linecolor": "white",
            "showbackground": true,
            "ticks": "",
            "zerolinecolor": "white"
           },
           "yaxis": {
            "backgroundcolor": "#E5ECF6",
            "gridcolor": "white",
            "gridwidth": 2,
            "linecolor": "white",
            "showbackground": true,
            "ticks": "",
            "zerolinecolor": "white"
           },
           "zaxis": {
            "backgroundcolor": "#E5ECF6",
            "gridcolor": "white",
            "gridwidth": 2,
            "linecolor": "white",
            "showbackground": true,
            "ticks": "",
            "zerolinecolor": "white"
           }
          },
          "shapedefaults": {
           "line": {
            "color": "#2a3f5f"
           }
          },
          "ternary": {
           "aaxis": {
            "gridcolor": "white",
            "linecolor": "white",
            "ticks": ""
           },
           "baxis": {
            "gridcolor": "white",
            "linecolor": "white",
            "ticks": ""
           },
           "bgcolor": "#E5ECF6",
           "caxis": {
            "gridcolor": "white",
            "linecolor": "white",
            "ticks": ""
           }
          },
          "title": {
           "x": 0.05
          },
          "xaxis": {
           "automargin": true,
           "gridcolor": "white",
           "linecolor": "white",
           "ticks": "",
           "title": {
            "standoff": 15
           },
           "zerolinecolor": "white",
           "zerolinewidth": 2
          },
          "yaxis": {
           "automargin": true,
           "gridcolor": "white",
           "linecolor": "white",
           "ticks": "",
           "title": {
            "standoff": 15
           },
           "zerolinecolor": "white",
           "zerolinewidth": 2
          }
         }
        },
        "title": {
         "text": "PLAIN - 15 agents - Independent"
        },
        "xaxis": {
         "anchor": "y",
         "categoryarray": [
          "WANDERING",
          "GREEDY"
         ],
         "categoryorder": "array",
         "domain": [
          0,
          1
         ],
         "tickmode": "array",
         "ticktext": [
          "Wandering",
          "Greedy"
         ],
         "tickvals": [
          0,
          1
         ],
         "title": {
          "text": "Methods"
         }
        },
        "yaxis": {
         "anchor": "x",
         "domain": [
          0,
          1
         ],
         "title": {
          "text": "Moves"
         }
        }
       }
      }
     },
     "metadata": {},
     "output_type": "display_data"
    },
    {
     "data": {
      "application/vnd.plotly.v1+json": {
       "config": {
        "plotlyServerURL": "https://plot.ly"
       },
       "data": [
        {
         "alignmentgroup": "True",
         "hovertemplate": "Coverage=50%<br>Behaviour=%{x}<br>Moves=%{y}<extra></extra>",
         "legendgroup": "50%",
         "marker": {
          "color": "#636efa"
         },
         "name": "50%",
         "notched": false,
         "offsetgroup": "50%",
         "orientation": "v",
         "showlegend": true,
         "type": "box",
         "x": [
          "FRONTIER_CENTRAL_GREEDY",
          "FRONTIER",
          "SCOUT",
          "ZONE_VORONOI",
          "FRONTIER",
          "FRONTIER_ASSIST",
          "SCOUT",
          "FRONTIER_CENTRAL_GREEDY",
          "GREEDY_FRONTIER",
          "SCOUT",
          "FRONTIER_CENTRAL_GREEDY",
          "SCOUT",
          "ZONE_SPLIT",
          "ZONE_VORONOI",
          "FRONTIER",
          "FRONTIER_ASSIST",
          "FRONTIER",
          "GREEDY_FRONTIER",
          "FRONTIER_ASSIST",
          "SCOUT",
          "ZONE_SPLIT",
          "SCOUT",
          "FRONTIER_CENTRAL_GREEDY",
          "FRONTIER",
          "GREEDY_FRONTIER",
          "FRONTIER_ASSIST",
          "SCOUT",
          "FRONTIER_CENTRAL_GREEDY",
          "SCOUT",
          "ZONE_SPLIT",
          "FRONTIER",
          "GREEDY_FRONTIER",
          "FRONTIER_ASSIST",
          "SCOUT",
          "ZONE_VORONOI",
          "FRONTIER_CENTRAL_GREEDY",
          "ZONE_SPLIT",
          "GREEDY_FRONTIER",
          "FRONTIER_CENTRAL_GREEDY",
          "ZONE_SPLIT",
          "ZONE_VORONOI",
          "GREEDY_FRONTIER",
          "FRONTIER_CENTRAL_GREEDY",
          "ZONE_VORONOI",
          "FRONTIER",
          "GREEDY_FRONTIER",
          "FRONTIER_ASSIST",
          "ZONE_VORONOI",
          "GREEDY_FRONTIER",
          "SCOUT",
          "FRONTIER_CENTRAL_GREEDY",
          "ZONE_VORONOI",
          "FRONTIER",
          "GREEDY_FRONTIER",
          "FRONTIER_ASSIST",
          "SCOUT",
          "ZONE_SPLIT",
          "GREEDY_FRONTIER",
          "ZONE_VORONOI",
          "SCOUT",
          "FRONTIER_CENTRAL_GREEDY"
         ],
         "x0": " ",
         "xaxis": "x",
         "y": [
          29,
          25,
          32,
          28,
          31,
          31,
          32,
          33,
          30,
          28,
          28,
          29,
          32,
          27,
          27,
          27,
          27,
          29,
          27,
          30,
          33,
          29,
          27,
          26,
          30,
          26,
          30,
          28,
          31,
          32,
          27,
          29,
          27,
          31,
          28,
          27,
          35,
          29,
          27,
          33,
          27,
          31,
          27,
          28,
          25,
          31,
          25,
          28,
          30,
          30,
          29,
          27,
          27,
          34,
          27,
          29,
          32,
          29,
          28,
          29,
          27
         ],
         "y0": " ",
         "yaxis": "y"
        },
        {
         "alignmentgroup": "True",
         "hovertemplate": "Coverage=75%<br>Behaviour=%{x}<br>Moves=%{y}<extra></extra>",
         "legendgroup": "75%",
         "marker": {
          "color": "#EF553B"
         },
         "name": "75%",
         "notched": false,
         "offsetgroup": "75%",
         "orientation": "v",
         "showlegend": true,
         "type": "box",
         "x": [
          "FRONTIER_CENTRAL_GREEDY",
          "FRONTIER",
          "SCOUT",
          "ZONE_VORONOI",
          "FRONTIER",
          "FRONTIER_ASSIST",
          "SCOUT",
          "FRONTIER_CENTRAL_GREEDY",
          "GREEDY_FRONTIER",
          "SCOUT",
          "FRONTIER_CENTRAL_GREEDY",
          "SCOUT",
          "ZONE_SPLIT",
          "ZONE_VORONOI",
          "FRONTIER",
          "FRONTIER_ASSIST",
          "FRONTIER",
          "GREEDY_FRONTIER",
          "FRONTIER_ASSIST",
          "SCOUT",
          "ZONE_SPLIT",
          "SCOUT",
          "FRONTIER_CENTRAL_GREEDY",
          "FRONTIER",
          "GREEDY_FRONTIER",
          "FRONTIER_ASSIST",
          "SCOUT",
          "FRONTIER_CENTRAL_GREEDY",
          "SCOUT",
          "ZONE_SPLIT",
          "FRONTIER",
          "GREEDY_FRONTIER",
          "FRONTIER_ASSIST",
          "SCOUT",
          "ZONE_VORONOI",
          "FRONTIER_CENTRAL_GREEDY",
          "ZONE_SPLIT",
          "GREEDY_FRONTIER",
          "FRONTIER_CENTRAL_GREEDY",
          "ZONE_SPLIT",
          "ZONE_VORONOI",
          "GREEDY_FRONTIER",
          "FRONTIER_CENTRAL_GREEDY",
          "ZONE_VORONOI",
          "FRONTIER",
          "GREEDY_FRONTIER",
          "FRONTIER_ASSIST",
          "ZONE_VORONOI",
          "GREEDY_FRONTIER",
          "SCOUT",
          "FRONTIER_CENTRAL_GREEDY",
          "ZONE_VORONOI",
          "FRONTIER",
          "GREEDY_FRONTIER",
          "FRONTIER_ASSIST",
          "SCOUT",
          "ZONE_SPLIT",
          "GREEDY_FRONTIER",
          "ZONE_VORONOI",
          "SCOUT",
          "FRONTIER_CENTRAL_GREEDY"
         ],
         "x0": " ",
         "xaxis": "x",
         "y": [
          35,
          36,
          48,
          37,
          39,
          39,
          42,
          42,
          39,
          38,
          36,
          39,
          43,
          36,
          36,
          36,
          35,
          38,
          35,
          39,
          42,
          43,
          39,
          36,
          37,
          36,
          41,
          39,
          43,
          42,
          35,
          38,
          35,
          41,
          37,
          37,
          44,
          38,
          37,
          42,
          36,
          41,
          37,
          38,
          34,
          41,
          34,
          36,
          37,
          40,
          39,
          36,
          38,
          45,
          38,
          40,
          42,
          40,
          38,
          40,
          39
         ],
         "y0": " ",
         "yaxis": "y"
        },
        {
         "alignmentgroup": "True",
         "hovertemplate": "Coverage=90%<br>Behaviour=%{x}<br>Moves=%{y}<extra></extra>",
         "legendgroup": "90%",
         "marker": {
          "color": "#00cc96"
         },
         "name": "90%",
         "notched": false,
         "offsetgroup": "90%",
         "orientation": "v",
         "showlegend": true,
         "type": "box",
         "x": [
          "FRONTIER_CENTRAL_GREEDY",
          "FRONTIER",
          "SCOUT",
          "ZONE_VORONOI",
          "FRONTIER",
          "FRONTIER_ASSIST",
          "SCOUT",
          "FRONTIER_CENTRAL_GREEDY",
          "GREEDY_FRONTIER",
          "SCOUT",
          "FRONTIER_CENTRAL_GREEDY",
          "SCOUT",
          "ZONE_SPLIT",
          "ZONE_VORONOI",
          "FRONTIER",
          "FRONTIER_ASSIST",
          "FRONTIER",
          "GREEDY_FRONTIER",
          "FRONTIER_ASSIST",
          "SCOUT",
          "ZONE_SPLIT",
          "SCOUT",
          "FRONTIER_CENTRAL_GREEDY",
          "FRONTIER",
          "GREEDY_FRONTIER",
          "FRONTIER_ASSIST",
          "SCOUT",
          "FRONTIER_CENTRAL_GREEDY",
          "SCOUT",
          "ZONE_SPLIT",
          "FRONTIER",
          "GREEDY_FRONTIER",
          "FRONTIER_ASSIST",
          "SCOUT",
          "ZONE_VORONOI",
          "FRONTIER_CENTRAL_GREEDY",
          "ZONE_SPLIT",
          "GREEDY_FRONTIER",
          "FRONTIER_CENTRAL_GREEDY",
          "ZONE_SPLIT",
          "ZONE_VORONOI",
          "GREEDY_FRONTIER",
          "FRONTIER_CENTRAL_GREEDY",
          "ZONE_VORONOI",
          "FRONTIER",
          "GREEDY_FRONTIER",
          "FRONTIER_ASSIST",
          "ZONE_VORONOI",
          "GREEDY_FRONTIER",
          "SCOUT",
          "FRONTIER_CENTRAL_GREEDY",
          "ZONE_VORONOI",
          "FRONTIER",
          "GREEDY_FRONTIER",
          "FRONTIER_ASSIST",
          "SCOUT",
          "ZONE_SPLIT",
          "GREEDY_FRONTIER",
          "ZONE_VORONOI",
          "SCOUT",
          "FRONTIER_CENTRAL_GREEDY"
         ],
         "x0": " ",
         "xaxis": "x",
         "y": [
          49,
          50,
          58,
          55,
          49,
          49,
          58,
          50,
          53,
          52,
          49,
          51,
          56,
          50,
          53,
          53,
          50,
          50,
          50,
          52,
          55,
          56,
          52,
          50,
          50,
          50,
          52,
          49,
          55,
          56,
          50,
          51,
          50,
          53,
          50,
          55,
          56,
          50,
          56,
          55,
          57,
          56,
          51,
          58,
          53,
          53,
          53,
          56,
          53,
          51,
          51,
          52,
          50,
          57,
          50,
          49,
          57,
          49,
          51,
          56,
          53
         ],
         "y0": " ",
         "yaxis": "y"
        },
        {
         "alignmentgroup": "True",
         "hovertemplate": "Coverage=100%<br>Behaviour=%{x}<br>Moves=%{y}<extra></extra>",
         "legendgroup": "100%",
         "marker": {
          "color": "#ab63fa"
         },
         "name": "100%",
         "notched": false,
         "offsetgroup": "100%",
         "orientation": "v",
         "showlegend": true,
         "type": "box",
         "x": [
          "FRONTIER_CENTRAL_GREEDY",
          "FRONTIER",
          "SCOUT",
          "ZONE_VORONOI",
          "FRONTIER",
          "FRONTIER_ASSIST",
          "SCOUT",
          "FRONTIER_CENTRAL_GREEDY",
          "GREEDY_FRONTIER",
          "SCOUT",
          "FRONTIER_CENTRAL_GREEDY",
          "SCOUT",
          "ZONE_SPLIT",
          "ZONE_VORONOI",
          "FRONTIER",
          "FRONTIER_ASSIST",
          "FRONTIER",
          "GREEDY_FRONTIER",
          "FRONTIER_ASSIST",
          "SCOUT",
          "ZONE_SPLIT",
          "SCOUT",
          "FRONTIER_CENTRAL_GREEDY",
          "FRONTIER",
          "GREEDY_FRONTIER",
          "FRONTIER_ASSIST",
          "SCOUT",
          "FRONTIER_CENTRAL_GREEDY",
          "SCOUT",
          "ZONE_SPLIT",
          "FRONTIER",
          "GREEDY_FRONTIER",
          "FRONTIER_ASSIST",
          "SCOUT",
          "ZONE_VORONOI",
          "FRONTIER_CENTRAL_GREEDY",
          "ZONE_SPLIT",
          "GREEDY_FRONTIER",
          "FRONTIER_CENTRAL_GREEDY",
          "ZONE_SPLIT",
          "ZONE_VORONOI",
          "GREEDY_FRONTIER",
          "FRONTIER_CENTRAL_GREEDY",
          "ZONE_VORONOI",
          "FRONTIER",
          "GREEDY_FRONTIER",
          "FRONTIER_ASSIST",
          "ZONE_VORONOI",
          "GREEDY_FRONTIER",
          "SCOUT",
          "FRONTIER_CENTRAL_GREEDY",
          "ZONE_VORONOI",
          "FRONTIER",
          "GREEDY_FRONTIER",
          "FRONTIER_ASSIST",
          "SCOUT",
          "ZONE_SPLIT",
          "GREEDY_FRONTIER",
          "ZONE_VORONOI",
          "SCOUT",
          "FRONTIER_CENTRAL_GREEDY"
         ],
         "x0": " ",
         "xaxis": "x",
         "y": [
          50,
          51,
          59,
          56,
          50,
          50,
          59,
          51,
          54,
          53,
          50,
          52,
          57,
          51,
          54,
          54,
          51,
          51,
          51,
          53,
          56,
          57,
          53,
          51,
          51,
          51,
          53,
          50,
          56,
          57,
          51,
          52,
          51,
          54,
          51,
          56,
          57,
          51,
          57,
          56,
          58,
          57,
          52,
          59,
          54,
          54,
          54,
          57,
          54,
          52,
          52,
          53,
          51,
          58,
          51,
          50,
          58,
          50,
          52,
          57,
          54
         ],
         "y0": " ",
         "yaxis": "y"
        }
       ],
       "layout": {
        "boxmode": "group",
        "legend": {
         "title": {
          "text": "Coverage"
         },
         "tracegroupgap": 0
        },
        "margin": {
         "t": 60
        },
        "template": {
         "data": {
          "bar": [
           {
            "error_x": {
             "color": "#2a3f5f"
            },
            "error_y": {
             "color": "#2a3f5f"
            },
            "marker": {
             "line": {
              "color": "#E5ECF6",
              "width": 0.5
             },
             "pattern": {
              "fillmode": "overlay",
              "size": 10,
              "solidity": 0.2
             }
            },
            "type": "bar"
           }
          ],
          "barpolar": [
           {
            "marker": {
             "line": {
              "color": "#E5ECF6",
              "width": 0.5
             },
             "pattern": {
              "fillmode": "overlay",
              "size": 10,
              "solidity": 0.2
             }
            },
            "type": "barpolar"
           }
          ],
          "carpet": [
           {
            "aaxis": {
             "endlinecolor": "#2a3f5f",
             "gridcolor": "white",
             "linecolor": "white",
             "minorgridcolor": "white",
             "startlinecolor": "#2a3f5f"
            },
            "baxis": {
             "endlinecolor": "#2a3f5f",
             "gridcolor": "white",
             "linecolor": "white",
             "minorgridcolor": "white",
             "startlinecolor": "#2a3f5f"
            },
            "type": "carpet"
           }
          ],
          "choropleth": [
           {
            "colorbar": {
             "outlinewidth": 0,
             "ticks": ""
            },
            "type": "choropleth"
           }
          ],
          "contour": [
           {
            "colorbar": {
             "outlinewidth": 0,
             "ticks": ""
            },
            "colorscale": [
             [
              0,
              "#0d0887"
             ],
             [
              0.1111111111111111,
              "#46039f"
             ],
             [
              0.2222222222222222,
              "#7201a8"
             ],
             [
              0.3333333333333333,
              "#9c179e"
             ],
             [
              0.4444444444444444,
              "#bd3786"
             ],
             [
              0.5555555555555556,
              "#d8576b"
             ],
             [
              0.6666666666666666,
              "#ed7953"
             ],
             [
              0.7777777777777778,
              "#fb9f3a"
             ],
             [
              0.8888888888888888,
              "#fdca26"
             ],
             [
              1,
              "#f0f921"
             ]
            ],
            "type": "contour"
           }
          ],
          "contourcarpet": [
           {
            "colorbar": {
             "outlinewidth": 0,
             "ticks": ""
            },
            "type": "contourcarpet"
           }
          ],
          "heatmap": [
           {
            "colorbar": {
             "outlinewidth": 0,
             "ticks": ""
            },
            "colorscale": [
             [
              0,
              "#0d0887"
             ],
             [
              0.1111111111111111,
              "#46039f"
             ],
             [
              0.2222222222222222,
              "#7201a8"
             ],
             [
              0.3333333333333333,
              "#9c179e"
             ],
             [
              0.4444444444444444,
              "#bd3786"
             ],
             [
              0.5555555555555556,
              "#d8576b"
             ],
             [
              0.6666666666666666,
              "#ed7953"
             ],
             [
              0.7777777777777778,
              "#fb9f3a"
             ],
             [
              0.8888888888888888,
              "#fdca26"
             ],
             [
              1,
              "#f0f921"
             ]
            ],
            "type": "heatmap"
           }
          ],
          "heatmapgl": [
           {
            "colorbar": {
             "outlinewidth": 0,
             "ticks": ""
            },
            "colorscale": [
             [
              0,
              "#0d0887"
             ],
             [
              0.1111111111111111,
              "#46039f"
             ],
             [
              0.2222222222222222,
              "#7201a8"
             ],
             [
              0.3333333333333333,
              "#9c179e"
             ],
             [
              0.4444444444444444,
              "#bd3786"
             ],
             [
              0.5555555555555556,
              "#d8576b"
             ],
             [
              0.6666666666666666,
              "#ed7953"
             ],
             [
              0.7777777777777778,
              "#fb9f3a"
             ],
             [
              0.8888888888888888,
              "#fdca26"
             ],
             [
              1,
              "#f0f921"
             ]
            ],
            "type": "heatmapgl"
           }
          ],
          "histogram": [
           {
            "marker": {
             "pattern": {
              "fillmode": "overlay",
              "size": 10,
              "solidity": 0.2
             }
            },
            "type": "histogram"
           }
          ],
          "histogram2d": [
           {
            "colorbar": {
             "outlinewidth": 0,
             "ticks": ""
            },
            "colorscale": [
             [
              0,
              "#0d0887"
             ],
             [
              0.1111111111111111,
              "#46039f"
             ],
             [
              0.2222222222222222,
              "#7201a8"
             ],
             [
              0.3333333333333333,
              "#9c179e"
             ],
             [
              0.4444444444444444,
              "#bd3786"
             ],
             [
              0.5555555555555556,
              "#d8576b"
             ],
             [
              0.6666666666666666,
              "#ed7953"
             ],
             [
              0.7777777777777778,
              "#fb9f3a"
             ],
             [
              0.8888888888888888,
              "#fdca26"
             ],
             [
              1,
              "#f0f921"
             ]
            ],
            "type": "histogram2d"
           }
          ],
          "histogram2dcontour": [
           {
            "colorbar": {
             "outlinewidth": 0,
             "ticks": ""
            },
            "colorscale": [
             [
              0,
              "#0d0887"
             ],
             [
              0.1111111111111111,
              "#46039f"
             ],
             [
              0.2222222222222222,
              "#7201a8"
             ],
             [
              0.3333333333333333,
              "#9c179e"
             ],
             [
              0.4444444444444444,
              "#bd3786"
             ],
             [
              0.5555555555555556,
              "#d8576b"
             ],
             [
              0.6666666666666666,
              "#ed7953"
             ],
             [
              0.7777777777777778,
              "#fb9f3a"
             ],
             [
              0.8888888888888888,
              "#fdca26"
             ],
             [
              1,
              "#f0f921"
             ]
            ],
            "type": "histogram2dcontour"
           }
          ],
          "mesh3d": [
           {
            "colorbar": {
             "outlinewidth": 0,
             "ticks": ""
            },
            "type": "mesh3d"
           }
          ],
          "parcoords": [
           {
            "line": {
             "colorbar": {
              "outlinewidth": 0,
              "ticks": ""
             }
            },
            "type": "parcoords"
           }
          ],
          "pie": [
           {
            "automargin": true,
            "type": "pie"
           }
          ],
          "scatter": [
           {
            "fillpattern": {
             "fillmode": "overlay",
             "size": 10,
             "solidity": 0.2
            },
            "type": "scatter"
           }
          ],
          "scatter3d": [
           {
            "line": {
             "colorbar": {
              "outlinewidth": 0,
              "ticks": ""
             }
            },
            "marker": {
             "colorbar": {
              "outlinewidth": 0,
              "ticks": ""
             }
            },
            "type": "scatter3d"
           }
          ],
          "scattercarpet": [
           {
            "marker": {
             "colorbar": {
              "outlinewidth": 0,
              "ticks": ""
             }
            },
            "type": "scattercarpet"
           }
          ],
          "scattergeo": [
           {
            "marker": {
             "colorbar": {
              "outlinewidth": 0,
              "ticks": ""
             }
            },
            "type": "scattergeo"
           }
          ],
          "scattergl": [
           {
            "marker": {
             "colorbar": {
              "outlinewidth": 0,
              "ticks": ""
             }
            },
            "type": "scattergl"
           }
          ],
          "scattermapbox": [
           {
            "marker": {
             "colorbar": {
              "outlinewidth": 0,
              "ticks": ""
             }
            },
            "type": "scattermapbox"
           }
          ],
          "scatterpolar": [
           {
            "marker": {
             "colorbar": {
              "outlinewidth": 0,
              "ticks": ""
             }
            },
            "type": "scatterpolar"
           }
          ],
          "scatterpolargl": [
           {
            "marker": {
             "colorbar": {
              "outlinewidth": 0,
              "ticks": ""
             }
            },
            "type": "scatterpolargl"
           }
          ],
          "scatterternary": [
           {
            "marker": {
             "colorbar": {
              "outlinewidth": 0,
              "ticks": ""
             }
            },
            "type": "scatterternary"
           }
          ],
          "surface": [
           {
            "colorbar": {
             "outlinewidth": 0,
             "ticks": ""
            },
            "colorscale": [
             [
              0,
              "#0d0887"
             ],
             [
              0.1111111111111111,
              "#46039f"
             ],
             [
              0.2222222222222222,
              "#7201a8"
             ],
             [
              0.3333333333333333,
              "#9c179e"
             ],
             [
              0.4444444444444444,
              "#bd3786"
             ],
             [
              0.5555555555555556,
              "#d8576b"
             ],
             [
              0.6666666666666666,
              "#ed7953"
             ],
             [
              0.7777777777777778,
              "#fb9f3a"
             ],
             [
              0.8888888888888888,
              "#fdca26"
             ],
             [
              1,
              "#f0f921"
             ]
            ],
            "type": "surface"
           }
          ],
          "table": [
           {
            "cells": {
             "fill": {
              "color": "#EBF0F8"
             },
             "line": {
              "color": "white"
             }
            },
            "header": {
             "fill": {
              "color": "#C8D4E3"
             },
             "line": {
              "color": "white"
             }
            },
            "type": "table"
           }
          ]
         },
         "layout": {
          "annotationdefaults": {
           "arrowcolor": "#2a3f5f",
           "arrowhead": 0,
           "arrowwidth": 1
          },
          "autotypenumbers": "strict",
          "coloraxis": {
           "colorbar": {
            "outlinewidth": 0,
            "ticks": ""
           }
          },
          "colorscale": {
           "diverging": [
            [
             0,
             "#8e0152"
            ],
            [
             0.1,
             "#c51b7d"
            ],
            [
             0.2,
             "#de77ae"
            ],
            [
             0.3,
             "#f1b6da"
            ],
            [
             0.4,
             "#fde0ef"
            ],
            [
             0.5,
             "#f7f7f7"
            ],
            [
             0.6,
             "#e6f5d0"
            ],
            [
             0.7,
             "#b8e186"
            ],
            [
             0.8,
             "#7fbc41"
            ],
            [
             0.9,
             "#4d9221"
            ],
            [
             1,
             "#276419"
            ]
           ],
           "sequential": [
            [
             0,
             "#0d0887"
            ],
            [
             0.1111111111111111,
             "#46039f"
            ],
            [
             0.2222222222222222,
             "#7201a8"
            ],
            [
             0.3333333333333333,
             "#9c179e"
            ],
            [
             0.4444444444444444,
             "#bd3786"
            ],
            [
             0.5555555555555556,
             "#d8576b"
            ],
            [
             0.6666666666666666,
             "#ed7953"
            ],
            [
             0.7777777777777778,
             "#fb9f3a"
            ],
            [
             0.8888888888888888,
             "#fdca26"
            ],
            [
             1,
             "#f0f921"
            ]
           ],
           "sequentialminus": [
            [
             0,
             "#0d0887"
            ],
            [
             0.1111111111111111,
             "#46039f"
            ],
            [
             0.2222222222222222,
             "#7201a8"
            ],
            [
             0.3333333333333333,
             "#9c179e"
            ],
            [
             0.4444444444444444,
             "#bd3786"
            ],
            [
             0.5555555555555556,
             "#d8576b"
            ],
            [
             0.6666666666666666,
             "#ed7953"
            ],
            [
             0.7777777777777778,
             "#fb9f3a"
            ],
            [
             0.8888888888888888,
             "#fdca26"
            ],
            [
             1,
             "#f0f921"
            ]
           ]
          },
          "colorway": [
           "#636efa",
           "#EF553B",
           "#00cc96",
           "#ab63fa",
           "#FFA15A",
           "#19d3f3",
           "#FF6692",
           "#B6E880",
           "#FF97FF",
           "#FECB52"
          ],
          "font": {
           "color": "#2a3f5f"
          },
          "geo": {
           "bgcolor": "white",
           "lakecolor": "white",
           "landcolor": "#E5ECF6",
           "showlakes": true,
           "showland": true,
           "subunitcolor": "white"
          },
          "hoverlabel": {
           "align": "left"
          },
          "hovermode": "closest",
          "mapbox": {
           "style": "light"
          },
          "paper_bgcolor": "white",
          "plot_bgcolor": "#E5ECF6",
          "polar": {
           "angularaxis": {
            "gridcolor": "white",
            "linecolor": "white",
            "ticks": ""
           },
           "bgcolor": "#E5ECF6",
           "radialaxis": {
            "gridcolor": "white",
            "linecolor": "white",
            "ticks": ""
           }
          },
          "scene": {
           "xaxis": {
            "backgroundcolor": "#E5ECF6",
            "gridcolor": "white",
            "gridwidth": 2,
            "linecolor": "white",
            "showbackground": true,
            "ticks": "",
            "zerolinecolor": "white"
           },
           "yaxis": {
            "backgroundcolor": "#E5ECF6",
            "gridcolor": "white",
            "gridwidth": 2,
            "linecolor": "white",
            "showbackground": true,
            "ticks": "",
            "zerolinecolor": "white"
           },
           "zaxis": {
            "backgroundcolor": "#E5ECF6",
            "gridcolor": "white",
            "gridwidth": 2,
            "linecolor": "white",
            "showbackground": true,
            "ticks": "",
            "zerolinecolor": "white"
           }
          },
          "shapedefaults": {
           "line": {
            "color": "#2a3f5f"
           }
          },
          "ternary": {
           "aaxis": {
            "gridcolor": "white",
            "linecolor": "white",
            "ticks": ""
           },
           "baxis": {
            "gridcolor": "white",
            "linecolor": "white",
            "ticks": ""
           },
           "bgcolor": "#E5ECF6",
           "caxis": {
            "gridcolor": "white",
            "linecolor": "white",
            "ticks": ""
           }
          },
          "title": {
           "x": 0.05
          },
          "xaxis": {
           "automargin": true,
           "gridcolor": "white",
           "linecolor": "white",
           "ticks": "",
           "title": {
            "standoff": 15
           },
           "zerolinecolor": "white",
           "zerolinewidth": 2
          },
          "yaxis": {
           "automargin": true,
           "gridcolor": "white",
           "linecolor": "white",
           "ticks": "",
           "title": {
            "standoff": 15
           },
           "zerolinecolor": "white",
           "zerolinewidth": 2
          }
         }
        },
        "title": {
         "text": "PLAIN - 15 agents - Coordination"
        },
        "xaxis": {
         "anchor": "y",
         "categoryarray": [
          "FRONTIER",
          "GREEDY_FRONTIER",
          "FRONTIER_ASSIST",
          "SCOUT",
          "FRONTIER_CENTRAL_GREEDY",
          "ZONE_SPLIT",
          "ZONE_VORONOI"
         ],
         "categoryorder": "array",
         "domain": [
          0,
          1
         ],
         "tickmode": "array",
         "ticktext": [
          "Distributed Frontier-based",
          "Distributed Frontier-based greedy",
          "Distributed Frontier-based assistance",
          "Role system: Scout",
          "Centralised Frontier-based",
          "Zone-grid split",
          "Zone-Voronoi"
         ],
         "tickvals": [
          0,
          1,
          2,
          3,
          4,
          5,
          6
         ],
         "title": {
          "text": "Methods"
         }
        },
        "yaxis": {
         "anchor": "x",
         "domain": [
          0,
          1
         ],
         "title": {
          "text": "Moves"
         }
        }
       }
      }
     },
     "metadata": {},
     "output_type": "display_data"
    },
    {
     "data": {
      "application/vnd.plotly.v1+json": {
       "config": {
        "plotlyServerURL": "https://plot.ly"
       },
       "data": [
        {
         "alignmentgroup": "True",
         "hovertemplate": "Coverage=50%<br>Behaviour=%{x}<br>Moves=%{y}<extra></extra>",
         "legendgroup": "50%",
         "marker": {
          "color": "#636efa"
         },
         "name": "50%",
         "notched": false,
         "offsetgroup": "50%",
         "orientation": "v",
         "showlegend": true,
         "type": "box",
         "x": [
          "GREEDY",
          "WANDERING",
          "GREEDY",
          "WANDERING",
          "WANDERING",
          "GREEDY",
          "WANDERING",
          "GREEDY",
          "GREEDY",
          "GREEDY",
          "WANDERING",
          "WANDERING",
          "GREEDY",
          "GREEDY",
          "WANDERING",
          "GREEDY",
          "WANDERING",
          "WANDERING",
          "GREEDY"
         ],
         "x0": " ",
         "xaxis": "x",
         "y": [
          35,
          163,
          56,
          207,
          137,
          48,
          132,
          57,
          60,
          50,
          166,
          166,
          32,
          30,
          172,
          29,
          119,
          112,
          29
         ],
         "y0": " ",
         "yaxis": "y"
        },
        {
         "alignmentgroup": "True",
         "hovertemplate": "Coverage=75%<br>Behaviour=%{x}<br>Moves=%{y}<extra></extra>",
         "legendgroup": "75%",
         "marker": {
          "color": "#EF553B"
         },
         "name": "75%",
         "notched": false,
         "offsetgroup": "75%",
         "orientation": "v",
         "showlegend": true,
         "type": "box",
         "x": [
          "GREEDY",
          "WANDERING",
          "GREEDY",
          "WANDERING",
          "WANDERING",
          "GREEDY",
          "WANDERING",
          "GREEDY",
          "GREEDY",
          "GREEDY",
          "WANDERING",
          "WANDERING",
          "GREEDY",
          "GREEDY",
          "WANDERING",
          "GREEDY",
          "WANDERING",
          "WANDERING",
          "GREEDY"
         ],
         "x0": " ",
         "xaxis": "x",
         "y": [
          58,
          265,
          154,
          317,
          288,
          130,
          215,
          98,
          100,
          84,
          431,
          272,
          163,
          103,
          377,
          55,
          209,
          204,
          59
         ],
         "y0": " ",
         "yaxis": "y"
        },
        {
         "alignmentgroup": "True",
         "hovertemplate": "Coverage=90%<br>Behaviour=%{x}<br>Moves=%{y}<extra></extra>",
         "legendgroup": "90%",
         "marker": {
          "color": "#00cc96"
         },
         "name": "90%",
         "notched": false,
         "offsetgroup": "90%",
         "orientation": "v",
         "showlegend": true,
         "type": "box",
         "x": [
          "GREEDY",
          "WANDERING",
          "GREEDY",
          "WANDERING",
          "WANDERING",
          "GREEDY",
          "WANDERING",
          "GREEDY",
          "GREEDY",
          "GREEDY",
          "WANDERING",
          "WANDERING",
          "GREEDY",
          "GREEDY",
          "WANDERING",
          "GREEDY",
          "WANDERING",
          "WANDERING",
          "GREEDY"
         ],
         "x0": " ",
         "xaxis": "x",
         "y": [
          265,
          896,
          377,
          815,
          917,
          420,
          371,
          246,
          258,
          570,
          912,
          571,
          336,
          341,
          701,
          426,
          442,
          938,
          247
         ],
         "y0": " ",
         "yaxis": "y"
        },
        {
         "alignmentgroup": "True",
         "hovertemplate": "Coverage=100%<br>Behaviour=%{x}<br>Moves=%{y}<extra></extra>",
         "legendgroup": "100%",
         "marker": {
          "color": "#ab63fa"
         },
         "name": "100%",
         "notched": false,
         "offsetgroup": "100%",
         "orientation": "v",
         "showlegend": true,
         "type": "box",
         "x": [
          "GREEDY",
          "WANDERING",
          "GREEDY",
          "WANDERING",
          "WANDERING",
          "GREEDY",
          "WANDERING",
          "GREEDY",
          "GREEDY",
          "GREEDY",
          "WANDERING",
          "WANDERING",
          "GREEDY",
          "GREEDY",
          "WANDERING",
          "GREEDY",
          "WANDERING",
          "WANDERING",
          "GREEDY"
         ],
         "x0": " ",
         "xaxis": "x",
         "y": [
          266,
          897,
          378,
          816,
          918,
          421,
          372,
          247,
          259,
          571,
          913,
          572,
          337,
          342,
          702,
          427,
          443,
          939,
          248
         ],
         "y0": " ",
         "yaxis": "y"
        }
       ],
       "layout": {
        "boxmode": "group",
        "legend": {
         "title": {
          "text": "Coverage"
         },
         "tracegroupgap": 0
        },
        "margin": {
         "t": 60
        },
        "template": {
         "data": {
          "bar": [
           {
            "error_x": {
             "color": "#2a3f5f"
            },
            "error_y": {
             "color": "#2a3f5f"
            },
            "marker": {
             "line": {
              "color": "#E5ECF6",
              "width": 0.5
             },
             "pattern": {
              "fillmode": "overlay",
              "size": 10,
              "solidity": 0.2
             }
            },
            "type": "bar"
           }
          ],
          "barpolar": [
           {
            "marker": {
             "line": {
              "color": "#E5ECF6",
              "width": 0.5
             },
             "pattern": {
              "fillmode": "overlay",
              "size": 10,
              "solidity": 0.2
             }
            },
            "type": "barpolar"
           }
          ],
          "carpet": [
           {
            "aaxis": {
             "endlinecolor": "#2a3f5f",
             "gridcolor": "white",
             "linecolor": "white",
             "minorgridcolor": "white",
             "startlinecolor": "#2a3f5f"
            },
            "baxis": {
             "endlinecolor": "#2a3f5f",
             "gridcolor": "white",
             "linecolor": "white",
             "minorgridcolor": "white",
             "startlinecolor": "#2a3f5f"
            },
            "type": "carpet"
           }
          ],
          "choropleth": [
           {
            "colorbar": {
             "outlinewidth": 0,
             "ticks": ""
            },
            "type": "choropleth"
           }
          ],
          "contour": [
           {
            "colorbar": {
             "outlinewidth": 0,
             "ticks": ""
            },
            "colorscale": [
             [
              0,
              "#0d0887"
             ],
             [
              0.1111111111111111,
              "#46039f"
             ],
             [
              0.2222222222222222,
              "#7201a8"
             ],
             [
              0.3333333333333333,
              "#9c179e"
             ],
             [
              0.4444444444444444,
              "#bd3786"
             ],
             [
              0.5555555555555556,
              "#d8576b"
             ],
             [
              0.6666666666666666,
              "#ed7953"
             ],
             [
              0.7777777777777778,
              "#fb9f3a"
             ],
             [
              0.8888888888888888,
              "#fdca26"
             ],
             [
              1,
              "#f0f921"
             ]
            ],
            "type": "contour"
           }
          ],
          "contourcarpet": [
           {
            "colorbar": {
             "outlinewidth": 0,
             "ticks": ""
            },
            "type": "contourcarpet"
           }
          ],
          "heatmap": [
           {
            "colorbar": {
             "outlinewidth": 0,
             "ticks": ""
            },
            "colorscale": [
             [
              0,
              "#0d0887"
             ],
             [
              0.1111111111111111,
              "#46039f"
             ],
             [
              0.2222222222222222,
              "#7201a8"
             ],
             [
              0.3333333333333333,
              "#9c179e"
             ],
             [
              0.4444444444444444,
              "#bd3786"
             ],
             [
              0.5555555555555556,
              "#d8576b"
             ],
             [
              0.6666666666666666,
              "#ed7953"
             ],
             [
              0.7777777777777778,
              "#fb9f3a"
             ],
             [
              0.8888888888888888,
              "#fdca26"
             ],
             [
              1,
              "#f0f921"
             ]
            ],
            "type": "heatmap"
           }
          ],
          "heatmapgl": [
           {
            "colorbar": {
             "outlinewidth": 0,
             "ticks": ""
            },
            "colorscale": [
             [
              0,
              "#0d0887"
             ],
             [
              0.1111111111111111,
              "#46039f"
             ],
             [
              0.2222222222222222,
              "#7201a8"
             ],
             [
              0.3333333333333333,
              "#9c179e"
             ],
             [
              0.4444444444444444,
              "#bd3786"
             ],
             [
              0.5555555555555556,
              "#d8576b"
             ],
             [
              0.6666666666666666,
              "#ed7953"
             ],
             [
              0.7777777777777778,
              "#fb9f3a"
             ],
             [
              0.8888888888888888,
              "#fdca26"
             ],
             [
              1,
              "#f0f921"
             ]
            ],
            "type": "heatmapgl"
           }
          ],
          "histogram": [
           {
            "marker": {
             "pattern": {
              "fillmode": "overlay",
              "size": 10,
              "solidity": 0.2
             }
            },
            "type": "histogram"
           }
          ],
          "histogram2d": [
           {
            "colorbar": {
             "outlinewidth": 0,
             "ticks": ""
            },
            "colorscale": [
             [
              0,
              "#0d0887"
             ],
             [
              0.1111111111111111,
              "#46039f"
             ],
             [
              0.2222222222222222,
              "#7201a8"
             ],
             [
              0.3333333333333333,
              "#9c179e"
             ],
             [
              0.4444444444444444,
              "#bd3786"
             ],
             [
              0.5555555555555556,
              "#d8576b"
             ],
             [
              0.6666666666666666,
              "#ed7953"
             ],
             [
              0.7777777777777778,
              "#fb9f3a"
             ],
             [
              0.8888888888888888,
              "#fdca26"
             ],
             [
              1,
              "#f0f921"
             ]
            ],
            "type": "histogram2d"
           }
          ],
          "histogram2dcontour": [
           {
            "colorbar": {
             "outlinewidth": 0,
             "ticks": ""
            },
            "colorscale": [
             [
              0,
              "#0d0887"
             ],
             [
              0.1111111111111111,
              "#46039f"
             ],
             [
              0.2222222222222222,
              "#7201a8"
             ],
             [
              0.3333333333333333,
              "#9c179e"
             ],
             [
              0.4444444444444444,
              "#bd3786"
             ],
             [
              0.5555555555555556,
              "#d8576b"
             ],
             [
              0.6666666666666666,
              "#ed7953"
             ],
             [
              0.7777777777777778,
              "#fb9f3a"
             ],
             [
              0.8888888888888888,
              "#fdca26"
             ],
             [
              1,
              "#f0f921"
             ]
            ],
            "type": "histogram2dcontour"
           }
          ],
          "mesh3d": [
           {
            "colorbar": {
             "outlinewidth": 0,
             "ticks": ""
            },
            "type": "mesh3d"
           }
          ],
          "parcoords": [
           {
            "line": {
             "colorbar": {
              "outlinewidth": 0,
              "ticks": ""
             }
            },
            "type": "parcoords"
           }
          ],
          "pie": [
           {
            "automargin": true,
            "type": "pie"
           }
          ],
          "scatter": [
           {
            "fillpattern": {
             "fillmode": "overlay",
             "size": 10,
             "solidity": 0.2
            },
            "type": "scatter"
           }
          ],
          "scatter3d": [
           {
            "line": {
             "colorbar": {
              "outlinewidth": 0,
              "ticks": ""
             }
            },
            "marker": {
             "colorbar": {
              "outlinewidth": 0,
              "ticks": ""
             }
            },
            "type": "scatter3d"
           }
          ],
          "scattercarpet": [
           {
            "marker": {
             "colorbar": {
              "outlinewidth": 0,
              "ticks": ""
             }
            },
            "type": "scattercarpet"
           }
          ],
          "scattergeo": [
           {
            "marker": {
             "colorbar": {
              "outlinewidth": 0,
              "ticks": ""
             }
            },
            "type": "scattergeo"
           }
          ],
          "scattergl": [
           {
            "marker": {
             "colorbar": {
              "outlinewidth": 0,
              "ticks": ""
             }
            },
            "type": "scattergl"
           }
          ],
          "scattermapbox": [
           {
            "marker": {
             "colorbar": {
              "outlinewidth": 0,
              "ticks": ""
             }
            },
            "type": "scattermapbox"
           }
          ],
          "scatterpolar": [
           {
            "marker": {
             "colorbar": {
              "outlinewidth": 0,
              "ticks": ""
             }
            },
            "type": "scatterpolar"
           }
          ],
          "scatterpolargl": [
           {
            "marker": {
             "colorbar": {
              "outlinewidth": 0,
              "ticks": ""
             }
            },
            "type": "scatterpolargl"
           }
          ],
          "scatterternary": [
           {
            "marker": {
             "colorbar": {
              "outlinewidth": 0,
              "ticks": ""
             }
            },
            "type": "scatterternary"
           }
          ],
          "surface": [
           {
            "colorbar": {
             "outlinewidth": 0,
             "ticks": ""
            },
            "colorscale": [
             [
              0,
              "#0d0887"
             ],
             [
              0.1111111111111111,
              "#46039f"
             ],
             [
              0.2222222222222222,
              "#7201a8"
             ],
             [
              0.3333333333333333,
              "#9c179e"
             ],
             [
              0.4444444444444444,
              "#bd3786"
             ],
             [
              0.5555555555555556,
              "#d8576b"
             ],
             [
              0.6666666666666666,
              "#ed7953"
             ],
             [
              0.7777777777777778,
              "#fb9f3a"
             ],
             [
              0.8888888888888888,
              "#fdca26"
             ],
             [
              1,
              "#f0f921"
             ]
            ],
            "type": "surface"
           }
          ],
          "table": [
           {
            "cells": {
             "fill": {
              "color": "#EBF0F8"
             },
             "line": {
              "color": "white"
             }
            },
            "header": {
             "fill": {
              "color": "#C8D4E3"
             },
             "line": {
              "color": "white"
             }
            },
            "type": "table"
           }
          ]
         },
         "layout": {
          "annotationdefaults": {
           "arrowcolor": "#2a3f5f",
           "arrowhead": 0,
           "arrowwidth": 1
          },
          "autotypenumbers": "strict",
          "coloraxis": {
           "colorbar": {
            "outlinewidth": 0,
            "ticks": ""
           }
          },
          "colorscale": {
           "diverging": [
            [
             0,
             "#8e0152"
            ],
            [
             0.1,
             "#c51b7d"
            ],
            [
             0.2,
             "#de77ae"
            ],
            [
             0.3,
             "#f1b6da"
            ],
            [
             0.4,
             "#fde0ef"
            ],
            [
             0.5,
             "#f7f7f7"
            ],
            [
             0.6,
             "#e6f5d0"
            ],
            [
             0.7,
             "#b8e186"
            ],
            [
             0.8,
             "#7fbc41"
            ],
            [
             0.9,
             "#4d9221"
            ],
            [
             1,
             "#276419"
            ]
           ],
           "sequential": [
            [
             0,
             "#0d0887"
            ],
            [
             0.1111111111111111,
             "#46039f"
            ],
            [
             0.2222222222222222,
             "#7201a8"
            ],
            [
             0.3333333333333333,
             "#9c179e"
            ],
            [
             0.4444444444444444,
             "#bd3786"
            ],
            [
             0.5555555555555556,
             "#d8576b"
            ],
            [
             0.6666666666666666,
             "#ed7953"
            ],
            [
             0.7777777777777778,
             "#fb9f3a"
            ],
            [
             0.8888888888888888,
             "#fdca26"
            ],
            [
             1,
             "#f0f921"
            ]
           ],
           "sequentialminus": [
            [
             0,
             "#0d0887"
            ],
            [
             0.1111111111111111,
             "#46039f"
            ],
            [
             0.2222222222222222,
             "#7201a8"
            ],
            [
             0.3333333333333333,
             "#9c179e"
            ],
            [
             0.4444444444444444,
             "#bd3786"
            ],
            [
             0.5555555555555556,
             "#d8576b"
            ],
            [
             0.6666666666666666,
             "#ed7953"
            ],
            [
             0.7777777777777778,
             "#fb9f3a"
            ],
            [
             0.8888888888888888,
             "#fdca26"
            ],
            [
             1,
             "#f0f921"
            ]
           ]
          },
          "colorway": [
           "#636efa",
           "#EF553B",
           "#00cc96",
           "#ab63fa",
           "#FFA15A",
           "#19d3f3",
           "#FF6692",
           "#B6E880",
           "#FF97FF",
           "#FECB52"
          ],
          "font": {
           "color": "#2a3f5f"
          },
          "geo": {
           "bgcolor": "white",
           "lakecolor": "white",
           "landcolor": "#E5ECF6",
           "showlakes": true,
           "showland": true,
           "subunitcolor": "white"
          },
          "hoverlabel": {
           "align": "left"
          },
          "hovermode": "closest",
          "mapbox": {
           "style": "light"
          },
          "paper_bgcolor": "white",
          "plot_bgcolor": "#E5ECF6",
          "polar": {
           "angularaxis": {
            "gridcolor": "white",
            "linecolor": "white",
            "ticks": ""
           },
           "bgcolor": "#E5ECF6",
           "radialaxis": {
            "gridcolor": "white",
            "linecolor": "white",
            "ticks": ""
           }
          },
          "scene": {
           "xaxis": {
            "backgroundcolor": "#E5ECF6",
            "gridcolor": "white",
            "gridwidth": 2,
            "linecolor": "white",
            "showbackground": true,
            "ticks": "",
            "zerolinecolor": "white"
           },
           "yaxis": {
            "backgroundcolor": "#E5ECF6",
            "gridcolor": "white",
            "gridwidth": 2,
            "linecolor": "white",
            "showbackground": true,
            "ticks": "",
            "zerolinecolor": "white"
           },
           "zaxis": {
            "backgroundcolor": "#E5ECF6",
            "gridcolor": "white",
            "gridwidth": 2,
            "linecolor": "white",
            "showbackground": true,
            "ticks": "",
            "zerolinecolor": "white"
           }
          },
          "shapedefaults": {
           "line": {
            "color": "#2a3f5f"
           }
          },
          "ternary": {
           "aaxis": {
            "gridcolor": "white",
            "linecolor": "white",
            "ticks": ""
           },
           "baxis": {
            "gridcolor": "white",
            "linecolor": "white",
            "ticks": ""
           },
           "bgcolor": "#E5ECF6",
           "caxis": {
            "gridcolor": "white",
            "linecolor": "white",
            "ticks": ""
           }
          },
          "title": {
           "x": 0.05
          },
          "xaxis": {
           "automargin": true,
           "gridcolor": "white",
           "linecolor": "white",
           "ticks": "",
           "title": {
            "standoff": 15
           },
           "zerolinecolor": "white",
           "zerolinewidth": 2
          },
          "yaxis": {
           "automargin": true,
           "gridcolor": "white",
           "linecolor": "white",
           "ticks": "",
           "title": {
            "standoff": 15
           },
           "zerolinecolor": "white",
           "zerolinewidth": 2
          }
         }
        },
        "title": {
         "text": "OBSTACLES - 15 agents - Independent"
        },
        "xaxis": {
         "anchor": "y",
         "categoryarray": [
          "WANDERING",
          "GREEDY"
         ],
         "categoryorder": "array",
         "domain": [
          0,
          1
         ],
         "tickmode": "array",
         "ticktext": [
          "Wandering",
          "Greedy"
         ],
         "tickvals": [
          0,
          1
         ],
         "title": {
          "text": "Methods"
         }
        },
        "yaxis": {
         "anchor": "x",
         "domain": [
          0,
          1
         ],
         "title": {
          "text": "Moves"
         }
        }
       }
      }
     },
     "metadata": {},
     "output_type": "display_data"
    },
    {
     "data": {
      "application/vnd.plotly.v1+json": {
       "config": {
        "plotlyServerURL": "https://plot.ly"
       },
       "data": [
        {
         "alignmentgroup": "True",
         "hovertemplate": "Coverage=50%<br>Behaviour=%{x}<br>Moves=%{y}<extra></extra>",
         "legendgroup": "50%",
         "marker": {
          "color": "#636efa"
         },
         "name": "50%",
         "notched": false,
         "offsetgroup": "50%",
         "orientation": "v",
         "showlegend": true,
         "type": "box",
         "x": [
          "FRONTIER_CENTRAL_GREEDY",
          "ZONE_VORONOI",
          "GREEDY_FRONTIER",
          "FRONTIER_ASSIST",
          "SCOUT",
          "FRONTIER_CENTRAL_GREEDY",
          "ZONE_VORONOI",
          "GREEDY_FRONTIER",
          "SCOUT",
          "FRONTIER",
          "GREEDY_FRONTIER",
          "FRONTIER_ASSIST",
          "SCOUT",
          "SCOUT",
          "FRONTIER",
          "GREEDY_FRONTIER",
          "FRONTIER_ASSIST",
          "SCOUT",
          "FRONTIER_CENTRAL_GREEDY",
          "ZONE_VORONOI",
          "FRONTIER",
          "FRONTIER_ASSIST",
          "SCOUT",
          "FRONTIER_CENTRAL_GREEDY",
          "ZONE_VORONOI",
          "GREEDY_FRONTIER",
          "GREEDY_FRONTIER",
          "SCOUT",
          "FRONTIER_CENTRAL_GREEDY",
          "ZONE_VORONOI",
          "FRONTIER_CENTRAL_GREEDY",
          "ZONE_VORONOI",
          "FRONTIER",
          "GREEDY_FRONTIER",
          "FRONTIER_ASSIST",
          "SCOUT",
          "FRONTIER_CENTRAL_GREEDY",
          "GREEDY_FRONTIER",
          "GREEDY_FRONTIER",
          "GREEDY_FRONTIER",
          "SCOUT",
          "FRONTIER_CENTRAL_GREEDY",
          "ZONE_VORONOI",
          "GREEDY_FRONTIER",
          "ZONE_VORONOI",
          "GREEDY_FRONTIER",
          "SCOUT",
          "ZONE_VORONOI",
          "GREEDY_FRONTIER",
          "SCOUT",
          "ZONE_VORONOI",
          "FRONTIER",
          "GREEDY_FRONTIER",
          "FRONTIER_ASSIST",
          "SCOUT",
          "FRONTIER_CENTRAL_GREEDY",
          "ZONE_VORONOI",
          "FRONTIER",
          "GREEDY_FRONTIER",
          "FRONTIER_ASSIST",
          "FRONTIER_CENTRAL_GREEDY",
          "FRONTIER",
          "FRONTIER_ASSIST",
          "SCOUT",
          "ZONE_VORONOI"
         ],
         "x0": " ",
         "xaxis": "x",
         "y": [
          24,
          23,
          31,
          26,
          28,
          26,
          26,
          31,
          31,
          23,
          31,
          23,
          28,
          30,
          26,
          28,
          26,
          28,
          27,
          24,
          25,
          25,
          30,
          27,
          27,
          29,
          33,
          32,
          26,
          28,
          23,
          27,
          29,
          34,
          29,
          30,
          31,
          30,
          28,
          27,
          27,
          24,
          26,
          31,
          26,
          29,
          28,
          24,
          26,
          26,
          27,
          22,
          23,
          22,
          27,
          25,
          22,
          27,
          26,
          27,
          25,
          22,
          22,
          26,
          25
         ],
         "y0": " ",
         "yaxis": "y"
        },
        {
         "alignmentgroup": "True",
         "hovertemplate": "Coverage=75%<br>Behaviour=%{x}<br>Moves=%{y}<extra></extra>",
         "legendgroup": "75%",
         "marker": {
          "color": "#EF553B"
         },
         "name": "75%",
         "notched": false,
         "offsetgroup": "75%",
         "orientation": "v",
         "showlegend": true,
         "type": "box",
         "x": [
          "FRONTIER_CENTRAL_GREEDY",
          "ZONE_VORONOI",
          "GREEDY_FRONTIER",
          "FRONTIER_ASSIST",
          "SCOUT",
          "FRONTIER_CENTRAL_GREEDY",
          "ZONE_VORONOI",
          "GREEDY_FRONTIER",
          "SCOUT",
          "FRONTIER",
          "GREEDY_FRONTIER",
          "FRONTIER_ASSIST",
          "SCOUT",
          "SCOUT",
          "FRONTIER",
          "GREEDY_FRONTIER",
          "FRONTIER_ASSIST",
          "SCOUT",
          "FRONTIER_CENTRAL_GREEDY",
          "ZONE_VORONOI",
          "FRONTIER",
          "FRONTIER_ASSIST",
          "SCOUT",
          "FRONTIER_CENTRAL_GREEDY",
          "ZONE_VORONOI",
          "GREEDY_FRONTIER",
          "GREEDY_FRONTIER",
          "SCOUT",
          "FRONTIER_CENTRAL_GREEDY",
          "ZONE_VORONOI",
          "FRONTIER_CENTRAL_GREEDY",
          "ZONE_VORONOI",
          "FRONTIER",
          "GREEDY_FRONTIER",
          "FRONTIER_ASSIST",
          "SCOUT",
          "FRONTIER_CENTRAL_GREEDY",
          "GREEDY_FRONTIER",
          "GREEDY_FRONTIER",
          "GREEDY_FRONTIER",
          "SCOUT",
          "FRONTIER_CENTRAL_GREEDY",
          "ZONE_VORONOI",
          "GREEDY_FRONTIER",
          "ZONE_VORONOI",
          "GREEDY_FRONTIER",
          "SCOUT",
          "ZONE_VORONOI",
          "GREEDY_FRONTIER",
          "SCOUT",
          "ZONE_VORONOI",
          "FRONTIER",
          "GREEDY_FRONTIER",
          "FRONTIER_ASSIST",
          "SCOUT",
          "FRONTIER_CENTRAL_GREEDY",
          "ZONE_VORONOI",
          "FRONTIER",
          "GREEDY_FRONTIER",
          "FRONTIER_ASSIST",
          "FRONTIER_CENTRAL_GREEDY",
          "FRONTIER",
          "FRONTIER_ASSIST",
          "SCOUT",
          "ZONE_VORONOI"
         ],
         "x0": " ",
         "xaxis": "x",
         "y": [
          32,
          33,
          41,
          40,
          42,
          39,
          35,
          44,
          44,
          37,
          44,
          37,
          40,
          41,
          37,
          36,
          37,
          38,
          38,
          34,
          36,
          36,
          45,
          39,
          43,
          35,
          44,
          42,
          37,
          43,
          31,
          35,
          39,
          44,
          39,
          42,
          39,
          41,
          42,
          40,
          36,
          30,
          36,
          41,
          35,
          41,
          41,
          33,
          44,
          35,
          34,
          33,
          36,
          33,
          37,
          36,
          32,
          49,
          39,
          49,
          48,
          33,
          33,
          41,
          32
         ],
         "y0": " ",
         "yaxis": "y"
        },
        {
         "alignmentgroup": "True",
         "hovertemplate": "Coverage=90%<br>Behaviour=%{x}<br>Moves=%{y}<extra></extra>",
         "legendgroup": "90%",
         "marker": {
          "color": "#00cc96"
         },
         "name": "90%",
         "notched": false,
         "offsetgroup": "90%",
         "orientation": "v",
         "showlegend": true,
         "type": "box",
         "x": [
          "FRONTIER_CENTRAL_GREEDY",
          "ZONE_VORONOI",
          "GREEDY_FRONTIER",
          "FRONTIER_ASSIST",
          "SCOUT",
          "FRONTIER_CENTRAL_GREEDY",
          "ZONE_VORONOI",
          "GREEDY_FRONTIER",
          "SCOUT",
          "FRONTIER",
          "GREEDY_FRONTIER",
          "FRONTIER_ASSIST",
          "SCOUT",
          "SCOUT",
          "FRONTIER",
          "GREEDY_FRONTIER",
          "FRONTIER_ASSIST",
          "SCOUT",
          "FRONTIER_CENTRAL_GREEDY",
          "ZONE_VORONOI",
          "FRONTIER",
          "FRONTIER_ASSIST",
          "SCOUT",
          "FRONTIER_CENTRAL_GREEDY",
          "ZONE_VORONOI",
          "GREEDY_FRONTIER",
          "GREEDY_FRONTIER",
          "SCOUT",
          "FRONTIER_CENTRAL_GREEDY",
          "ZONE_VORONOI",
          "FRONTIER_CENTRAL_GREEDY",
          "ZONE_VORONOI",
          "FRONTIER",
          "GREEDY_FRONTIER",
          "FRONTIER_ASSIST",
          "SCOUT",
          "FRONTIER_CENTRAL_GREEDY",
          "GREEDY_FRONTIER",
          "GREEDY_FRONTIER",
          "GREEDY_FRONTIER",
          "SCOUT",
          "FRONTIER_CENTRAL_GREEDY",
          "ZONE_VORONOI",
          "GREEDY_FRONTIER",
          "ZONE_VORONOI",
          "GREEDY_FRONTIER",
          "SCOUT",
          "ZONE_VORONOI",
          "GREEDY_FRONTIER",
          "SCOUT",
          "ZONE_VORONOI",
          "FRONTIER",
          "GREEDY_FRONTIER",
          "FRONTIER_ASSIST",
          "SCOUT",
          "FRONTIER_CENTRAL_GREEDY",
          "ZONE_VORONOI",
          "FRONTIER",
          "GREEDY_FRONTIER",
          "FRONTIER_ASSIST",
          "FRONTIER_CENTRAL_GREEDY",
          "FRONTIER",
          "FRONTIER_ASSIST",
          "SCOUT",
          "ZONE_VORONOI"
         ],
         "x0": " ",
         "xaxis": "x",
         "y": [
          50,
          55,
          50,
          65,
          64,
          59,
          62,
          59,
          61,
          57,
          64,
          57,
          61,
          55,
          53,
          56,
          53,
          60,
          59,
          56,
          53,
          53,
          64,
          55,
          62,
          50,
          60,
          59,
          52,
          62,
          54,
          60,
          60,
          62,
          60,
          65,
          51,
          51,
          58,
          56,
          54,
          54,
          63,
          56,
          59,
          59,
          60,
          51,
          60,
          51,
          59,
          51,
          52,
          51,
          51,
          50,
          53,
          60,
          52,
          60,
          61,
          56,
          56,
          65,
          52
         ],
         "y0": " ",
         "yaxis": "y"
        },
        {
         "alignmentgroup": "True",
         "hovertemplate": "Coverage=100%<br>Behaviour=%{x}<br>Moves=%{y}<extra></extra>",
         "legendgroup": "100%",
         "marker": {
          "color": "#ab63fa"
         },
         "name": "100%",
         "notched": false,
         "offsetgroup": "100%",
         "orientation": "v",
         "showlegend": true,
         "type": "box",
         "x": [
          "FRONTIER_CENTRAL_GREEDY",
          "ZONE_VORONOI",
          "GREEDY_FRONTIER",
          "FRONTIER_ASSIST",
          "SCOUT",
          "FRONTIER_CENTRAL_GREEDY",
          "ZONE_VORONOI",
          "GREEDY_FRONTIER",
          "SCOUT",
          "FRONTIER",
          "GREEDY_FRONTIER",
          "FRONTIER_ASSIST",
          "SCOUT",
          "SCOUT",
          "FRONTIER",
          "GREEDY_FRONTIER",
          "FRONTIER_ASSIST",
          "SCOUT",
          "FRONTIER_CENTRAL_GREEDY",
          "ZONE_VORONOI",
          "FRONTIER",
          "FRONTIER_ASSIST",
          "SCOUT",
          "FRONTIER_CENTRAL_GREEDY",
          "ZONE_VORONOI",
          "GREEDY_FRONTIER",
          "GREEDY_FRONTIER",
          "SCOUT",
          "FRONTIER_CENTRAL_GREEDY",
          "ZONE_VORONOI",
          "FRONTIER_CENTRAL_GREEDY",
          "ZONE_VORONOI",
          "FRONTIER",
          "GREEDY_FRONTIER",
          "FRONTIER_ASSIST",
          "SCOUT",
          "FRONTIER_CENTRAL_GREEDY",
          "GREEDY_FRONTIER",
          "GREEDY_FRONTIER",
          "GREEDY_FRONTIER",
          "SCOUT",
          "FRONTIER_CENTRAL_GREEDY",
          "ZONE_VORONOI",
          "GREEDY_FRONTIER",
          "ZONE_VORONOI",
          "GREEDY_FRONTIER",
          "SCOUT",
          "ZONE_VORONOI",
          "GREEDY_FRONTIER",
          "SCOUT",
          "ZONE_VORONOI",
          "FRONTIER",
          "GREEDY_FRONTIER",
          "FRONTIER_ASSIST",
          "SCOUT",
          "FRONTIER_CENTRAL_GREEDY",
          "ZONE_VORONOI",
          "FRONTIER",
          "GREEDY_FRONTIER",
          "FRONTIER_ASSIST",
          "FRONTIER_CENTRAL_GREEDY",
          "FRONTIER",
          "FRONTIER_ASSIST",
          "SCOUT",
          "ZONE_VORONOI"
         ],
         "x0": " ",
         "xaxis": "x",
         "y": [
          51,
          56,
          51,
          66,
          65,
          60,
          63,
          60,
          62,
          58,
          65,
          58,
          62,
          56,
          54,
          57,
          54,
          61,
          60,
          57,
          54,
          54,
          65,
          56,
          63,
          51,
          61,
          60,
          53,
          63,
          55,
          61,
          61,
          63,
          61,
          66,
          52,
          52,
          59,
          57,
          55,
          55,
          64,
          57,
          60,
          60,
          61,
          52,
          61,
          52,
          60,
          52,
          53,
          52,
          52,
          51,
          54,
          61,
          53,
          61,
          62,
          57,
          57,
          66,
          53
         ],
         "y0": " ",
         "yaxis": "y"
        }
       ],
       "layout": {
        "boxmode": "group",
        "legend": {
         "title": {
          "text": "Coverage"
         },
         "tracegroupgap": 0
        },
        "margin": {
         "t": 60
        },
        "template": {
         "data": {
          "bar": [
           {
            "error_x": {
             "color": "#2a3f5f"
            },
            "error_y": {
             "color": "#2a3f5f"
            },
            "marker": {
             "line": {
              "color": "#E5ECF6",
              "width": 0.5
             },
             "pattern": {
              "fillmode": "overlay",
              "size": 10,
              "solidity": 0.2
             }
            },
            "type": "bar"
           }
          ],
          "barpolar": [
           {
            "marker": {
             "line": {
              "color": "#E5ECF6",
              "width": 0.5
             },
             "pattern": {
              "fillmode": "overlay",
              "size": 10,
              "solidity": 0.2
             }
            },
            "type": "barpolar"
           }
          ],
          "carpet": [
           {
            "aaxis": {
             "endlinecolor": "#2a3f5f",
             "gridcolor": "white",
             "linecolor": "white",
             "minorgridcolor": "white",
             "startlinecolor": "#2a3f5f"
            },
            "baxis": {
             "endlinecolor": "#2a3f5f",
             "gridcolor": "white",
             "linecolor": "white",
             "minorgridcolor": "white",
             "startlinecolor": "#2a3f5f"
            },
            "type": "carpet"
           }
          ],
          "choropleth": [
           {
            "colorbar": {
             "outlinewidth": 0,
             "ticks": ""
            },
            "type": "choropleth"
           }
          ],
          "contour": [
           {
            "colorbar": {
             "outlinewidth": 0,
             "ticks": ""
            },
            "colorscale": [
             [
              0,
              "#0d0887"
             ],
             [
              0.1111111111111111,
              "#46039f"
             ],
             [
              0.2222222222222222,
              "#7201a8"
             ],
             [
              0.3333333333333333,
              "#9c179e"
             ],
             [
              0.4444444444444444,
              "#bd3786"
             ],
             [
              0.5555555555555556,
              "#d8576b"
             ],
             [
              0.6666666666666666,
              "#ed7953"
             ],
             [
              0.7777777777777778,
              "#fb9f3a"
             ],
             [
              0.8888888888888888,
              "#fdca26"
             ],
             [
              1,
              "#f0f921"
             ]
            ],
            "type": "contour"
           }
          ],
          "contourcarpet": [
           {
            "colorbar": {
             "outlinewidth": 0,
             "ticks": ""
            },
            "type": "contourcarpet"
           }
          ],
          "heatmap": [
           {
            "colorbar": {
             "outlinewidth": 0,
             "ticks": ""
            },
            "colorscale": [
             [
              0,
              "#0d0887"
             ],
             [
              0.1111111111111111,
              "#46039f"
             ],
             [
              0.2222222222222222,
              "#7201a8"
             ],
             [
              0.3333333333333333,
              "#9c179e"
             ],
             [
              0.4444444444444444,
              "#bd3786"
             ],
             [
              0.5555555555555556,
              "#d8576b"
             ],
             [
              0.6666666666666666,
              "#ed7953"
             ],
             [
              0.7777777777777778,
              "#fb9f3a"
             ],
             [
              0.8888888888888888,
              "#fdca26"
             ],
             [
              1,
              "#f0f921"
             ]
            ],
            "type": "heatmap"
           }
          ],
          "heatmapgl": [
           {
            "colorbar": {
             "outlinewidth": 0,
             "ticks": ""
            },
            "colorscale": [
             [
              0,
              "#0d0887"
             ],
             [
              0.1111111111111111,
              "#46039f"
             ],
             [
              0.2222222222222222,
              "#7201a8"
             ],
             [
              0.3333333333333333,
              "#9c179e"
             ],
             [
              0.4444444444444444,
              "#bd3786"
             ],
             [
              0.5555555555555556,
              "#d8576b"
             ],
             [
              0.6666666666666666,
              "#ed7953"
             ],
             [
              0.7777777777777778,
              "#fb9f3a"
             ],
             [
              0.8888888888888888,
              "#fdca26"
             ],
             [
              1,
              "#f0f921"
             ]
            ],
            "type": "heatmapgl"
           }
          ],
          "histogram": [
           {
            "marker": {
             "pattern": {
              "fillmode": "overlay",
              "size": 10,
              "solidity": 0.2
             }
            },
            "type": "histogram"
           }
          ],
          "histogram2d": [
           {
            "colorbar": {
             "outlinewidth": 0,
             "ticks": ""
            },
            "colorscale": [
             [
              0,
              "#0d0887"
             ],
             [
              0.1111111111111111,
              "#46039f"
             ],
             [
              0.2222222222222222,
              "#7201a8"
             ],
             [
              0.3333333333333333,
              "#9c179e"
             ],
             [
              0.4444444444444444,
              "#bd3786"
             ],
             [
              0.5555555555555556,
              "#d8576b"
             ],
             [
              0.6666666666666666,
              "#ed7953"
             ],
             [
              0.7777777777777778,
              "#fb9f3a"
             ],
             [
              0.8888888888888888,
              "#fdca26"
             ],
             [
              1,
              "#f0f921"
             ]
            ],
            "type": "histogram2d"
           }
          ],
          "histogram2dcontour": [
           {
            "colorbar": {
             "outlinewidth": 0,
             "ticks": ""
            },
            "colorscale": [
             [
              0,
              "#0d0887"
             ],
             [
              0.1111111111111111,
              "#46039f"
             ],
             [
              0.2222222222222222,
              "#7201a8"
             ],
             [
              0.3333333333333333,
              "#9c179e"
             ],
             [
              0.4444444444444444,
              "#bd3786"
             ],
             [
              0.5555555555555556,
              "#d8576b"
             ],
             [
              0.6666666666666666,
              "#ed7953"
             ],
             [
              0.7777777777777778,
              "#fb9f3a"
             ],
             [
              0.8888888888888888,
              "#fdca26"
             ],
             [
              1,
              "#f0f921"
             ]
            ],
            "type": "histogram2dcontour"
           }
          ],
          "mesh3d": [
           {
            "colorbar": {
             "outlinewidth": 0,
             "ticks": ""
            },
            "type": "mesh3d"
           }
          ],
          "parcoords": [
           {
            "line": {
             "colorbar": {
              "outlinewidth": 0,
              "ticks": ""
             }
            },
            "type": "parcoords"
           }
          ],
          "pie": [
           {
            "automargin": true,
            "type": "pie"
           }
          ],
          "scatter": [
           {
            "fillpattern": {
             "fillmode": "overlay",
             "size": 10,
             "solidity": 0.2
            },
            "type": "scatter"
           }
          ],
          "scatter3d": [
           {
            "line": {
             "colorbar": {
              "outlinewidth": 0,
              "ticks": ""
             }
            },
            "marker": {
             "colorbar": {
              "outlinewidth": 0,
              "ticks": ""
             }
            },
            "type": "scatter3d"
           }
          ],
          "scattercarpet": [
           {
            "marker": {
             "colorbar": {
              "outlinewidth": 0,
              "ticks": ""
             }
            },
            "type": "scattercarpet"
           }
          ],
          "scattergeo": [
           {
            "marker": {
             "colorbar": {
              "outlinewidth": 0,
              "ticks": ""
             }
            },
            "type": "scattergeo"
           }
          ],
          "scattergl": [
           {
            "marker": {
             "colorbar": {
              "outlinewidth": 0,
              "ticks": ""
             }
            },
            "type": "scattergl"
           }
          ],
          "scattermapbox": [
           {
            "marker": {
             "colorbar": {
              "outlinewidth": 0,
              "ticks": ""
             }
            },
            "type": "scattermapbox"
           }
          ],
          "scatterpolar": [
           {
            "marker": {
             "colorbar": {
              "outlinewidth": 0,
              "ticks": ""
             }
            },
            "type": "scatterpolar"
           }
          ],
          "scatterpolargl": [
           {
            "marker": {
             "colorbar": {
              "outlinewidth": 0,
              "ticks": ""
             }
            },
            "type": "scatterpolargl"
           }
          ],
          "scatterternary": [
           {
            "marker": {
             "colorbar": {
              "outlinewidth": 0,
              "ticks": ""
             }
            },
            "type": "scatterternary"
           }
          ],
          "surface": [
           {
            "colorbar": {
             "outlinewidth": 0,
             "ticks": ""
            },
            "colorscale": [
             [
              0,
              "#0d0887"
             ],
             [
              0.1111111111111111,
              "#46039f"
             ],
             [
              0.2222222222222222,
              "#7201a8"
             ],
             [
              0.3333333333333333,
              "#9c179e"
             ],
             [
              0.4444444444444444,
              "#bd3786"
             ],
             [
              0.5555555555555556,
              "#d8576b"
             ],
             [
              0.6666666666666666,
              "#ed7953"
             ],
             [
              0.7777777777777778,
              "#fb9f3a"
             ],
             [
              0.8888888888888888,
              "#fdca26"
             ],
             [
              1,
              "#f0f921"
             ]
            ],
            "type": "surface"
           }
          ],
          "table": [
           {
            "cells": {
             "fill": {
              "color": "#EBF0F8"
             },
             "line": {
              "color": "white"
             }
            },
            "header": {
             "fill": {
              "color": "#C8D4E3"
             },
             "line": {
              "color": "white"
             }
            },
            "type": "table"
           }
          ]
         },
         "layout": {
          "annotationdefaults": {
           "arrowcolor": "#2a3f5f",
           "arrowhead": 0,
           "arrowwidth": 1
          },
          "autotypenumbers": "strict",
          "coloraxis": {
           "colorbar": {
            "outlinewidth": 0,
            "ticks": ""
           }
          },
          "colorscale": {
           "diverging": [
            [
             0,
             "#8e0152"
            ],
            [
             0.1,
             "#c51b7d"
            ],
            [
             0.2,
             "#de77ae"
            ],
            [
             0.3,
             "#f1b6da"
            ],
            [
             0.4,
             "#fde0ef"
            ],
            [
             0.5,
             "#f7f7f7"
            ],
            [
             0.6,
             "#e6f5d0"
            ],
            [
             0.7,
             "#b8e186"
            ],
            [
             0.8,
             "#7fbc41"
            ],
            [
             0.9,
             "#4d9221"
            ],
            [
             1,
             "#276419"
            ]
           ],
           "sequential": [
            [
             0,
             "#0d0887"
            ],
            [
             0.1111111111111111,
             "#46039f"
            ],
            [
             0.2222222222222222,
             "#7201a8"
            ],
            [
             0.3333333333333333,
             "#9c179e"
            ],
            [
             0.4444444444444444,
             "#bd3786"
            ],
            [
             0.5555555555555556,
             "#d8576b"
            ],
            [
             0.6666666666666666,
             "#ed7953"
            ],
            [
             0.7777777777777778,
             "#fb9f3a"
            ],
            [
             0.8888888888888888,
             "#fdca26"
            ],
            [
             1,
             "#f0f921"
            ]
           ],
           "sequentialminus": [
            [
             0,
             "#0d0887"
            ],
            [
             0.1111111111111111,
             "#46039f"
            ],
            [
             0.2222222222222222,
             "#7201a8"
            ],
            [
             0.3333333333333333,
             "#9c179e"
            ],
            [
             0.4444444444444444,
             "#bd3786"
            ],
            [
             0.5555555555555556,
             "#d8576b"
            ],
            [
             0.6666666666666666,
             "#ed7953"
            ],
            [
             0.7777777777777778,
             "#fb9f3a"
            ],
            [
             0.8888888888888888,
             "#fdca26"
            ],
            [
             1,
             "#f0f921"
            ]
           ]
          },
          "colorway": [
           "#636efa",
           "#EF553B",
           "#00cc96",
           "#ab63fa",
           "#FFA15A",
           "#19d3f3",
           "#FF6692",
           "#B6E880",
           "#FF97FF",
           "#FECB52"
          ],
          "font": {
           "color": "#2a3f5f"
          },
          "geo": {
           "bgcolor": "white",
           "lakecolor": "white",
           "landcolor": "#E5ECF6",
           "showlakes": true,
           "showland": true,
           "subunitcolor": "white"
          },
          "hoverlabel": {
           "align": "left"
          },
          "hovermode": "closest",
          "mapbox": {
           "style": "light"
          },
          "paper_bgcolor": "white",
          "plot_bgcolor": "#E5ECF6",
          "polar": {
           "angularaxis": {
            "gridcolor": "white",
            "linecolor": "white",
            "ticks": ""
           },
           "bgcolor": "#E5ECF6",
           "radialaxis": {
            "gridcolor": "white",
            "linecolor": "white",
            "ticks": ""
           }
          },
          "scene": {
           "xaxis": {
            "backgroundcolor": "#E5ECF6",
            "gridcolor": "white",
            "gridwidth": 2,
            "linecolor": "white",
            "showbackground": true,
            "ticks": "",
            "zerolinecolor": "white"
           },
           "yaxis": {
            "backgroundcolor": "#E5ECF6",
            "gridcolor": "white",
            "gridwidth": 2,
            "linecolor": "white",
            "showbackground": true,
            "ticks": "",
            "zerolinecolor": "white"
           },
           "zaxis": {
            "backgroundcolor": "#E5ECF6",
            "gridcolor": "white",
            "gridwidth": 2,
            "linecolor": "white",
            "showbackground": true,
            "ticks": "",
            "zerolinecolor": "white"
           }
          },
          "shapedefaults": {
           "line": {
            "color": "#2a3f5f"
           }
          },
          "ternary": {
           "aaxis": {
            "gridcolor": "white",
            "linecolor": "white",
            "ticks": ""
           },
           "baxis": {
            "gridcolor": "white",
            "linecolor": "white",
            "ticks": ""
           },
           "bgcolor": "#E5ECF6",
           "caxis": {
            "gridcolor": "white",
            "linecolor": "white",
            "ticks": ""
           }
          },
          "title": {
           "x": 0.05
          },
          "xaxis": {
           "automargin": true,
           "gridcolor": "white",
           "linecolor": "white",
           "ticks": "",
           "title": {
            "standoff": 15
           },
           "zerolinecolor": "white",
           "zerolinewidth": 2
          },
          "yaxis": {
           "automargin": true,
           "gridcolor": "white",
           "linecolor": "white",
           "ticks": "",
           "title": {
            "standoff": 15
           },
           "zerolinecolor": "white",
           "zerolinewidth": 2
          }
         }
        },
        "title": {
         "text": "OBSTACLES - 15 agents - Coordination"
        },
        "xaxis": {
         "anchor": "y",
         "categoryarray": [
          "FRONTIER",
          "GREEDY_FRONTIER",
          "FRONTIER_ASSIST",
          "SCOUT",
          "FRONTIER_CENTRAL_GREEDY",
          "ZONE_SPLIT",
          "ZONE_VORONOI"
         ],
         "categoryorder": "array",
         "domain": [
          0,
          1
         ],
         "tickmode": "array",
         "ticktext": [
          "Distributed Frontier-based",
          "Distributed Frontier-based greedy",
          "Distributed Frontier-based assistance",
          "Role system: Scout",
          "Centralised Frontier-based",
          "Zone-grid split",
          "Zone-Voronoi"
         ],
         "tickvals": [
          0,
          1,
          2,
          3,
          4,
          5,
          6
         ],
         "title": {
          "text": "Methods"
         }
        },
        "yaxis": {
         "anchor": "x",
         "domain": [
          0,
          1
         ],
         "title": {
          "text": "Moves"
         }
        }
       }
      }
     },
     "metadata": {},
     "output_type": "display_data"
    },
    {
     "data": {
      "application/vnd.plotly.v1+json": {
       "config": {
        "plotlyServerURL": "https://plot.ly"
       },
       "data": [
        {
         "alignmentgroup": "True",
         "hovertemplate": "Coverage=50%<br>Behaviour=%{x}<br>Moves=%{y}<extra></extra>",
         "legendgroup": "50%",
         "marker": {
          "color": "#636efa"
         },
         "name": "50%",
         "notched": false,
         "offsetgroup": "50%",
         "orientation": "v",
         "showlegend": true,
         "type": "box",
         "x": [
          "GREEDY",
          "GREEDY",
          "GREEDY",
          "GREEDY",
          "GREEDY",
          "GREEDY",
          "GREEDY",
          "GREEDY",
          "GREEDY",
          "GREEDY",
          "GREEDY"
         ],
         "x0": " ",
         "xaxis": "x",
         "y": [
          86,
          39,
          118,
          60,
          83,
          49,
          77,
          71,
          62,
          58,
          45
         ],
         "y0": " ",
         "yaxis": "y"
        },
        {
         "alignmentgroup": "True",
         "hovertemplate": "Coverage=75%<br>Behaviour=%{x}<br>Moves=%{y}<extra></extra>",
         "legendgroup": "75%",
         "marker": {
          "color": "#EF553B"
         },
         "name": "75%",
         "notched": false,
         "offsetgroup": "75%",
         "orientation": "v",
         "showlegend": true,
         "type": "box",
         "x": [
          "GREEDY",
          "GREEDY",
          "GREEDY",
          "GREEDY",
          "GREEDY",
          "GREEDY",
          "GREEDY",
          "GREEDY",
          "GREEDY",
          "GREEDY",
          "GREEDY"
         ],
         "x0": " ",
         "xaxis": "x",
         "y": [
          145,
          61,
          197,
          254,
          519,
          82,
          640,
          141,
          146,
          144,
          227
         ],
         "y0": " ",
         "yaxis": "y"
        },
        {
         "alignmentgroup": "True",
         "hovertemplate": "Coverage=90%<br>Behaviour=%{x}<br>Moves=%{y}<extra></extra>",
         "legendgroup": "90%",
         "marker": {
          "color": "#00cc96"
         },
         "name": "90%",
         "notched": false,
         "offsetgroup": "90%",
         "orientation": "v",
         "showlegend": true,
         "type": "box",
         "x": [
          "GREEDY",
          "GREEDY",
          "GREEDY",
          "GREEDY",
          "GREEDY",
          "GREEDY",
          "GREEDY",
          "GREEDY",
          "GREEDY",
          "GREEDY",
          "GREEDY"
         ],
         "x0": " ",
         "xaxis": "x",
         "y": [
          442,
          450,
          497,
          849,
          614,
          593,
          1335,
          613,
          579,
          1039,
          819
         ],
         "y0": " ",
         "yaxis": "y"
        },
        {
         "alignmentgroup": "True",
         "hovertemplate": "Coverage=100%<br>Behaviour=%{x}<br>Moves=%{y}<extra></extra>",
         "legendgroup": "100%",
         "marker": {
          "color": "#ab63fa"
         },
         "name": "100%",
         "notched": false,
         "offsetgroup": "100%",
         "orientation": "v",
         "showlegend": true,
         "type": "box",
         "x": [
          "GREEDY",
          "GREEDY",
          "GREEDY",
          "GREEDY",
          "GREEDY",
          "GREEDY",
          "GREEDY",
          "GREEDY",
          "GREEDY",
          "GREEDY",
          "GREEDY"
         ],
         "x0": " ",
         "xaxis": "x",
         "y": [
          443,
          451,
          498,
          850,
          615,
          594,
          1336,
          614,
          580,
          1040,
          820
         ],
         "y0": " ",
         "yaxis": "y"
        }
       ],
       "layout": {
        "boxmode": "group",
        "legend": {
         "title": {
          "text": "Coverage"
         },
         "tracegroupgap": 0
        },
        "margin": {
         "t": 60
        },
        "template": {
         "data": {
          "bar": [
           {
            "error_x": {
             "color": "#2a3f5f"
            },
            "error_y": {
             "color": "#2a3f5f"
            },
            "marker": {
             "line": {
              "color": "#E5ECF6",
              "width": 0.5
             },
             "pattern": {
              "fillmode": "overlay",
              "size": 10,
              "solidity": 0.2
             }
            },
            "type": "bar"
           }
          ],
          "barpolar": [
           {
            "marker": {
             "line": {
              "color": "#E5ECF6",
              "width": 0.5
             },
             "pattern": {
              "fillmode": "overlay",
              "size": 10,
              "solidity": 0.2
             }
            },
            "type": "barpolar"
           }
          ],
          "carpet": [
           {
            "aaxis": {
             "endlinecolor": "#2a3f5f",
             "gridcolor": "white",
             "linecolor": "white",
             "minorgridcolor": "white",
             "startlinecolor": "#2a3f5f"
            },
            "baxis": {
             "endlinecolor": "#2a3f5f",
             "gridcolor": "white",
             "linecolor": "white",
             "minorgridcolor": "white",
             "startlinecolor": "#2a3f5f"
            },
            "type": "carpet"
           }
          ],
          "choropleth": [
           {
            "colorbar": {
             "outlinewidth": 0,
             "ticks": ""
            },
            "type": "choropleth"
           }
          ],
          "contour": [
           {
            "colorbar": {
             "outlinewidth": 0,
             "ticks": ""
            },
            "colorscale": [
             [
              0,
              "#0d0887"
             ],
             [
              0.1111111111111111,
              "#46039f"
             ],
             [
              0.2222222222222222,
              "#7201a8"
             ],
             [
              0.3333333333333333,
              "#9c179e"
             ],
             [
              0.4444444444444444,
              "#bd3786"
             ],
             [
              0.5555555555555556,
              "#d8576b"
             ],
             [
              0.6666666666666666,
              "#ed7953"
             ],
             [
              0.7777777777777778,
              "#fb9f3a"
             ],
             [
              0.8888888888888888,
              "#fdca26"
             ],
             [
              1,
              "#f0f921"
             ]
            ],
            "type": "contour"
           }
          ],
          "contourcarpet": [
           {
            "colorbar": {
             "outlinewidth": 0,
             "ticks": ""
            },
            "type": "contourcarpet"
           }
          ],
          "heatmap": [
           {
            "colorbar": {
             "outlinewidth": 0,
             "ticks": ""
            },
            "colorscale": [
             [
              0,
              "#0d0887"
             ],
             [
              0.1111111111111111,
              "#46039f"
             ],
             [
              0.2222222222222222,
              "#7201a8"
             ],
             [
              0.3333333333333333,
              "#9c179e"
             ],
             [
              0.4444444444444444,
              "#bd3786"
             ],
             [
              0.5555555555555556,
              "#d8576b"
             ],
             [
              0.6666666666666666,
              "#ed7953"
             ],
             [
              0.7777777777777778,
              "#fb9f3a"
             ],
             [
              0.8888888888888888,
              "#fdca26"
             ],
             [
              1,
              "#f0f921"
             ]
            ],
            "type": "heatmap"
           }
          ],
          "heatmapgl": [
           {
            "colorbar": {
             "outlinewidth": 0,
             "ticks": ""
            },
            "colorscale": [
             [
              0,
              "#0d0887"
             ],
             [
              0.1111111111111111,
              "#46039f"
             ],
             [
              0.2222222222222222,
              "#7201a8"
             ],
             [
              0.3333333333333333,
              "#9c179e"
             ],
             [
              0.4444444444444444,
              "#bd3786"
             ],
             [
              0.5555555555555556,
              "#d8576b"
             ],
             [
              0.6666666666666666,
              "#ed7953"
             ],
             [
              0.7777777777777778,
              "#fb9f3a"
             ],
             [
              0.8888888888888888,
              "#fdca26"
             ],
             [
              1,
              "#f0f921"
             ]
            ],
            "type": "heatmapgl"
           }
          ],
          "histogram": [
           {
            "marker": {
             "pattern": {
              "fillmode": "overlay",
              "size": 10,
              "solidity": 0.2
             }
            },
            "type": "histogram"
           }
          ],
          "histogram2d": [
           {
            "colorbar": {
             "outlinewidth": 0,
             "ticks": ""
            },
            "colorscale": [
             [
              0,
              "#0d0887"
             ],
             [
              0.1111111111111111,
              "#46039f"
             ],
             [
              0.2222222222222222,
              "#7201a8"
             ],
             [
              0.3333333333333333,
              "#9c179e"
             ],
             [
              0.4444444444444444,
              "#bd3786"
             ],
             [
              0.5555555555555556,
              "#d8576b"
             ],
             [
              0.6666666666666666,
              "#ed7953"
             ],
             [
              0.7777777777777778,
              "#fb9f3a"
             ],
             [
              0.8888888888888888,
              "#fdca26"
             ],
             [
              1,
              "#f0f921"
             ]
            ],
            "type": "histogram2d"
           }
          ],
          "histogram2dcontour": [
           {
            "colorbar": {
             "outlinewidth": 0,
             "ticks": ""
            },
            "colorscale": [
             [
              0,
              "#0d0887"
             ],
             [
              0.1111111111111111,
              "#46039f"
             ],
             [
              0.2222222222222222,
              "#7201a8"
             ],
             [
              0.3333333333333333,
              "#9c179e"
             ],
             [
              0.4444444444444444,
              "#bd3786"
             ],
             [
              0.5555555555555556,
              "#d8576b"
             ],
             [
              0.6666666666666666,
              "#ed7953"
             ],
             [
              0.7777777777777778,
              "#fb9f3a"
             ],
             [
              0.8888888888888888,
              "#fdca26"
             ],
             [
              1,
              "#f0f921"
             ]
            ],
            "type": "histogram2dcontour"
           }
          ],
          "mesh3d": [
           {
            "colorbar": {
             "outlinewidth": 0,
             "ticks": ""
            },
            "type": "mesh3d"
           }
          ],
          "parcoords": [
           {
            "line": {
             "colorbar": {
              "outlinewidth": 0,
              "ticks": ""
             }
            },
            "type": "parcoords"
           }
          ],
          "pie": [
           {
            "automargin": true,
            "type": "pie"
           }
          ],
          "scatter": [
           {
            "fillpattern": {
             "fillmode": "overlay",
             "size": 10,
             "solidity": 0.2
            },
            "type": "scatter"
           }
          ],
          "scatter3d": [
           {
            "line": {
             "colorbar": {
              "outlinewidth": 0,
              "ticks": ""
             }
            },
            "marker": {
             "colorbar": {
              "outlinewidth": 0,
              "ticks": ""
             }
            },
            "type": "scatter3d"
           }
          ],
          "scattercarpet": [
           {
            "marker": {
             "colorbar": {
              "outlinewidth": 0,
              "ticks": ""
             }
            },
            "type": "scattercarpet"
           }
          ],
          "scattergeo": [
           {
            "marker": {
             "colorbar": {
              "outlinewidth": 0,
              "ticks": ""
             }
            },
            "type": "scattergeo"
           }
          ],
          "scattergl": [
           {
            "marker": {
             "colorbar": {
              "outlinewidth": 0,
              "ticks": ""
             }
            },
            "type": "scattergl"
           }
          ],
          "scattermapbox": [
           {
            "marker": {
             "colorbar": {
              "outlinewidth": 0,
              "ticks": ""
             }
            },
            "type": "scattermapbox"
           }
          ],
          "scatterpolar": [
           {
            "marker": {
             "colorbar": {
              "outlinewidth": 0,
              "ticks": ""
             }
            },
            "type": "scatterpolar"
           }
          ],
          "scatterpolargl": [
           {
            "marker": {
             "colorbar": {
              "outlinewidth": 0,
              "ticks": ""
             }
            },
            "type": "scatterpolargl"
           }
          ],
          "scatterternary": [
           {
            "marker": {
             "colorbar": {
              "outlinewidth": 0,
              "ticks": ""
             }
            },
            "type": "scatterternary"
           }
          ],
          "surface": [
           {
            "colorbar": {
             "outlinewidth": 0,
             "ticks": ""
            },
            "colorscale": [
             [
              0,
              "#0d0887"
             ],
             [
              0.1111111111111111,
              "#46039f"
             ],
             [
              0.2222222222222222,
              "#7201a8"
             ],
             [
              0.3333333333333333,
              "#9c179e"
             ],
             [
              0.4444444444444444,
              "#bd3786"
             ],
             [
              0.5555555555555556,
              "#d8576b"
             ],
             [
              0.6666666666666666,
              "#ed7953"
             ],
             [
              0.7777777777777778,
              "#fb9f3a"
             ],
             [
              0.8888888888888888,
              "#fdca26"
             ],
             [
              1,
              "#f0f921"
             ]
            ],
            "type": "surface"
           }
          ],
          "table": [
           {
            "cells": {
             "fill": {
              "color": "#EBF0F8"
             },
             "line": {
              "color": "white"
             }
            },
            "header": {
             "fill": {
              "color": "#C8D4E3"
             },
             "line": {
              "color": "white"
             }
            },
            "type": "table"
           }
          ]
         },
         "layout": {
          "annotationdefaults": {
           "arrowcolor": "#2a3f5f",
           "arrowhead": 0,
           "arrowwidth": 1
          },
          "autotypenumbers": "strict",
          "coloraxis": {
           "colorbar": {
            "outlinewidth": 0,
            "ticks": ""
           }
          },
          "colorscale": {
           "diverging": [
            [
             0,
             "#8e0152"
            ],
            [
             0.1,
             "#c51b7d"
            ],
            [
             0.2,
             "#de77ae"
            ],
            [
             0.3,
             "#f1b6da"
            ],
            [
             0.4,
             "#fde0ef"
            ],
            [
             0.5,
             "#f7f7f7"
            ],
            [
             0.6,
             "#e6f5d0"
            ],
            [
             0.7,
             "#b8e186"
            ],
            [
             0.8,
             "#7fbc41"
            ],
            [
             0.9,
             "#4d9221"
            ],
            [
             1,
             "#276419"
            ]
           ],
           "sequential": [
            [
             0,
             "#0d0887"
            ],
            [
             0.1111111111111111,
             "#46039f"
            ],
            [
             0.2222222222222222,
             "#7201a8"
            ],
            [
             0.3333333333333333,
             "#9c179e"
            ],
            [
             0.4444444444444444,
             "#bd3786"
            ],
            [
             0.5555555555555556,
             "#d8576b"
            ],
            [
             0.6666666666666666,
             "#ed7953"
            ],
            [
             0.7777777777777778,
             "#fb9f3a"
            ],
            [
             0.8888888888888888,
             "#fdca26"
            ],
            [
             1,
             "#f0f921"
            ]
           ],
           "sequentialminus": [
            [
             0,
             "#0d0887"
            ],
            [
             0.1111111111111111,
             "#46039f"
            ],
            [
             0.2222222222222222,
             "#7201a8"
            ],
            [
             0.3333333333333333,
             "#9c179e"
            ],
            [
             0.4444444444444444,
             "#bd3786"
            ],
            [
             0.5555555555555556,
             "#d8576b"
            ],
            [
             0.6666666666666666,
             "#ed7953"
            ],
            [
             0.7777777777777778,
             "#fb9f3a"
            ],
            [
             0.8888888888888888,
             "#fdca26"
            ],
            [
             1,
             "#f0f921"
            ]
           ]
          },
          "colorway": [
           "#636efa",
           "#EF553B",
           "#00cc96",
           "#ab63fa",
           "#FFA15A",
           "#19d3f3",
           "#FF6692",
           "#B6E880",
           "#FF97FF",
           "#FECB52"
          ],
          "font": {
           "color": "#2a3f5f"
          },
          "geo": {
           "bgcolor": "white",
           "lakecolor": "white",
           "landcolor": "#E5ECF6",
           "showlakes": true,
           "showland": true,
           "subunitcolor": "white"
          },
          "hoverlabel": {
           "align": "left"
          },
          "hovermode": "closest",
          "mapbox": {
           "style": "light"
          },
          "paper_bgcolor": "white",
          "plot_bgcolor": "#E5ECF6",
          "polar": {
           "angularaxis": {
            "gridcolor": "white",
            "linecolor": "white",
            "ticks": ""
           },
           "bgcolor": "#E5ECF6",
           "radialaxis": {
            "gridcolor": "white",
            "linecolor": "white",
            "ticks": ""
           }
          },
          "scene": {
           "xaxis": {
            "backgroundcolor": "#E5ECF6",
            "gridcolor": "white",
            "gridwidth": 2,
            "linecolor": "white",
            "showbackground": true,
            "ticks": "",
            "zerolinecolor": "white"
           },
           "yaxis": {
            "backgroundcolor": "#E5ECF6",
            "gridcolor": "white",
            "gridwidth": 2,
            "linecolor": "white",
            "showbackground": true,
            "ticks": "",
            "zerolinecolor": "white"
           },
           "zaxis": {
            "backgroundcolor": "#E5ECF6",
            "gridcolor": "white",
            "gridwidth": 2,
            "linecolor": "white",
            "showbackground": true,
            "ticks": "",
            "zerolinecolor": "white"
           }
          },
          "shapedefaults": {
           "line": {
            "color": "#2a3f5f"
           }
          },
          "ternary": {
           "aaxis": {
            "gridcolor": "white",
            "linecolor": "white",
            "ticks": ""
           },
           "baxis": {
            "gridcolor": "white",
            "linecolor": "white",
            "ticks": ""
           },
           "bgcolor": "#E5ECF6",
           "caxis": {
            "gridcolor": "white",
            "linecolor": "white",
            "ticks": ""
           }
          },
          "title": {
           "x": 0.05
          },
          "xaxis": {
           "automargin": true,
           "gridcolor": "white",
           "linecolor": "white",
           "ticks": "",
           "title": {
            "standoff": 15
           },
           "zerolinecolor": "white",
           "zerolinewidth": 2
          },
          "yaxis": {
           "automargin": true,
           "gridcolor": "white",
           "linecolor": "white",
           "ticks": "",
           "title": {
            "standoff": 15
           },
           "zerolinecolor": "white",
           "zerolinewidth": 2
          }
         }
        },
        "title": {
         "text": "CAVE - 15 agents - Independent"
        },
        "xaxis": {
         "anchor": "y",
         "categoryarray": [
          "WANDERING",
          "GREEDY"
         ],
         "categoryorder": "array",
         "domain": [
          0,
          1
         ],
         "tickmode": "array",
         "ticktext": [
          "Wandering",
          "Greedy"
         ],
         "tickvals": [
          0,
          1
         ],
         "title": {
          "text": "Methods"
         }
        },
        "yaxis": {
         "anchor": "x",
         "domain": [
          0,
          1
         ],
         "title": {
          "text": "Moves"
         }
        }
       }
      }
     },
     "metadata": {},
     "output_type": "display_data"
    },
    {
     "data": {
      "application/vnd.plotly.v1+json": {
       "config": {
        "plotlyServerURL": "https://plot.ly"
       },
       "data": [
        {
         "alignmentgroup": "True",
         "hovertemplate": "Coverage=50%<br>Behaviour=%{x}<br>Moves=%{y}<extra></extra>",
         "legendgroup": "50%",
         "marker": {
          "color": "#636efa"
         },
         "name": "50%",
         "notched": false,
         "offsetgroup": "50%",
         "orientation": "v",
         "showlegend": true,
         "type": "box",
         "x": [
          "FRONTIER",
          "FRONTIER_ASSIST",
          "FRONTIER_ASSIST",
          "ZONE_VORONOI",
          "SCOUT",
          "GREEDY_FRONTIER",
          "FRONTIER_CENTRAL_GREEDY",
          "ZONE_VORONOI",
          "SCOUT",
          "FRONTIER_CENTRAL_GREEDY",
          "ZONE_VORONOI",
          "GREEDY_FRONTIER",
          "ZONE_VORONOI",
          "FRONTIER",
          "GREEDY_FRONTIER",
          "FRONTIER_ASSIST",
          "SCOUT",
          "ZONE_VORONOI",
          "GREEDY_FRONTIER",
          "SCOUT",
          "GREEDY_FRONTIER",
          "FRONTIER_CENTRAL_GREEDY",
          "FRONTIER",
          "GREEDY_FRONTIER",
          "FRONTIER_ASSIST",
          "SCOUT",
          "FRONTIER",
          "GREEDY_FRONTIER",
          "FRONTIER_ASSIST",
          "ZONE_VORONOI",
          "SCOUT",
          "ZONE_VORONOI",
          "FRONTIER",
          "FRONTIER_ASSIST",
          "SCOUT",
          "ZONE_VORONOI",
          "FRONTIER",
          "FRONTIER_ASSIST",
          "SCOUT",
          "ZONE_VORONOI",
          "FRONTIER",
          "GREEDY_FRONTIER",
          "FRONTIER_ASSIST",
          "ZONE_VORONOI",
          "FRONTIER",
          "GREEDY_FRONTIER",
          "FRONTIER_ASSIST",
          "SCOUT",
          "ZONE_VORONOI",
          "FRONTIER",
          "GREEDY_FRONTIER",
          "FRONTIER_ASSIST",
          "SCOUT",
          "FRONTIER_CENTRAL_GREEDY",
          "GREEDY_FRONTIER",
          "ZONE_VORONOI",
          "SCOUT"
         ],
         "x0": " ",
         "xaxis": "x",
         "y": [
          34,
          34,
          33,
          39,
          42,
          31,
          33,
          34,
          38,
          34,
          33,
          29,
          31,
          39,
          35,
          38,
          36,
          35,
          36,
          35,
          39,
          38,
          48,
          36,
          48,
          40,
          31,
          36,
          31,
          36,
          35,
          29,
          44,
          44,
          35,
          40,
          36,
          36,
          45,
          37,
          35,
          38,
          35,
          41,
          30,
          37,
          30,
          35,
          30,
          42,
          43,
          42,
          51,
          41,
          36,
          31,
          33
         ],
         "y0": " ",
         "yaxis": "y"
        },
        {
         "alignmentgroup": "True",
         "hovertemplate": "Coverage=75%<br>Behaviour=%{x}<br>Moves=%{y}<extra></extra>",
         "legendgroup": "75%",
         "marker": {
          "color": "#EF553B"
         },
         "name": "75%",
         "notched": false,
         "offsetgroup": "75%",
         "orientation": "v",
         "showlegend": true,
         "type": "box",
         "x": [
          "FRONTIER",
          "FRONTIER_ASSIST",
          "FRONTIER_ASSIST",
          "ZONE_VORONOI",
          "SCOUT",
          "GREEDY_FRONTIER",
          "FRONTIER_CENTRAL_GREEDY",
          "ZONE_VORONOI",
          "SCOUT",
          "FRONTIER_CENTRAL_GREEDY",
          "ZONE_VORONOI",
          "GREEDY_FRONTIER",
          "ZONE_VORONOI",
          "FRONTIER",
          "GREEDY_FRONTIER",
          "FRONTIER_ASSIST",
          "SCOUT",
          "ZONE_VORONOI",
          "GREEDY_FRONTIER",
          "SCOUT",
          "GREEDY_FRONTIER",
          "FRONTIER_CENTRAL_GREEDY",
          "FRONTIER",
          "GREEDY_FRONTIER",
          "FRONTIER_ASSIST",
          "SCOUT",
          "FRONTIER",
          "GREEDY_FRONTIER",
          "FRONTIER_ASSIST",
          "ZONE_VORONOI",
          "SCOUT",
          "ZONE_VORONOI",
          "FRONTIER",
          "FRONTIER_ASSIST",
          "SCOUT",
          "ZONE_VORONOI",
          "FRONTIER",
          "FRONTIER_ASSIST",
          "SCOUT",
          "ZONE_VORONOI",
          "FRONTIER",
          "GREEDY_FRONTIER",
          "FRONTIER_ASSIST",
          "ZONE_VORONOI",
          "FRONTIER",
          "GREEDY_FRONTIER",
          "FRONTIER_ASSIST",
          "SCOUT",
          "ZONE_VORONOI",
          "FRONTIER",
          "GREEDY_FRONTIER",
          "FRONTIER_ASSIST",
          "SCOUT",
          "FRONTIER_CENTRAL_GREEDY",
          "GREEDY_FRONTIER",
          "ZONE_VORONOI",
          "SCOUT"
         ],
         "x0": " ",
         "xaxis": "x",
         "y": [
          47,
          47,
          56,
          59,
          65,
          48,
          42,
          47,
          60,
          46,
          47,
          61,
          48,
          58,
          56,
          60,
          58,
          56,
          48,
          57,
          65,
          56,
          68,
          52,
          68,
          67,
          45,
          62,
          45,
          51,
          65,
          41,
          77,
          77,
          58,
          56,
          54,
          54,
          86,
          64,
          48,
          59,
          48,
          63,
          49,
          53,
          49,
          71,
          47,
          64,
          62,
          64,
          74,
          61,
          47,
          44,
          48
         ],
         "y0": " ",
         "yaxis": "y"
        },
        {
         "alignmentgroup": "True",
         "hovertemplate": "Coverage=90%<br>Behaviour=%{x}<br>Moves=%{y}<extra></extra>",
         "legendgroup": "90%",
         "marker": {
          "color": "#00cc96"
         },
         "name": "90%",
         "notched": false,
         "offsetgroup": "90%",
         "orientation": "v",
         "showlegend": true,
         "type": "box",
         "x": [
          "FRONTIER",
          "FRONTIER_ASSIST",
          "FRONTIER_ASSIST",
          "ZONE_VORONOI",
          "SCOUT",
          "GREEDY_FRONTIER",
          "FRONTIER_CENTRAL_GREEDY",
          "ZONE_VORONOI",
          "SCOUT",
          "FRONTIER_CENTRAL_GREEDY",
          "ZONE_VORONOI",
          "GREEDY_FRONTIER",
          "ZONE_VORONOI",
          "FRONTIER",
          "GREEDY_FRONTIER",
          "FRONTIER_ASSIST",
          "SCOUT",
          "ZONE_VORONOI",
          "GREEDY_FRONTIER",
          "SCOUT",
          "GREEDY_FRONTIER",
          "FRONTIER_CENTRAL_GREEDY",
          "FRONTIER",
          "GREEDY_FRONTIER",
          "FRONTIER_ASSIST",
          "SCOUT",
          "FRONTIER",
          "GREEDY_FRONTIER",
          "FRONTIER_ASSIST",
          "ZONE_VORONOI",
          "SCOUT",
          "ZONE_VORONOI",
          "FRONTIER",
          "FRONTIER_ASSIST",
          "SCOUT",
          "ZONE_VORONOI",
          "FRONTIER",
          "FRONTIER_ASSIST",
          "SCOUT",
          "ZONE_VORONOI",
          "FRONTIER",
          "GREEDY_FRONTIER",
          "FRONTIER_ASSIST",
          "ZONE_VORONOI",
          "FRONTIER",
          "GREEDY_FRONTIER",
          "FRONTIER_ASSIST",
          "SCOUT",
          "ZONE_VORONOI",
          "FRONTIER",
          "GREEDY_FRONTIER",
          "FRONTIER_ASSIST",
          "SCOUT",
          "FRONTIER_CENTRAL_GREEDY",
          "GREEDY_FRONTIER",
          "ZONE_VORONOI",
          "SCOUT"
         ],
         "x0": " ",
         "xaxis": "x",
         "y": [
          91,
          91,
          92,
          106,
          103,
          96,
          96,
          103,
          100,
          83,
          97,
          111,
          88,
          95,
          119,
          117,
          120,
          85,
          122,
          123,
          118,
          97,
          87,
          83,
          87,
          106,
          86,
          115,
          86,
          100,
          95,
          86,
          103,
          103,
          121,
          82,
          92,
          92,
          116,
          113,
          86,
          107,
          123,
          106,
          91,
          96,
          91,
          116,
          90,
          96,
          89,
          96,
          114,
          95,
          83,
          82,
          92
         ],
         "y0": " ",
         "yaxis": "y"
        },
        {
         "alignmentgroup": "True",
         "hovertemplate": "Coverage=100%<br>Behaviour=%{x}<br>Moves=%{y}<extra></extra>",
         "legendgroup": "100%",
         "marker": {
          "color": "#ab63fa"
         },
         "name": "100%",
         "notched": false,
         "offsetgroup": "100%",
         "orientation": "v",
         "showlegend": true,
         "type": "box",
         "x": [
          "FRONTIER",
          "FRONTIER_ASSIST",
          "FRONTIER_ASSIST",
          "ZONE_VORONOI",
          "SCOUT",
          "GREEDY_FRONTIER",
          "FRONTIER_CENTRAL_GREEDY",
          "ZONE_VORONOI",
          "SCOUT",
          "FRONTIER_CENTRAL_GREEDY",
          "ZONE_VORONOI",
          "GREEDY_FRONTIER",
          "ZONE_VORONOI",
          "FRONTIER",
          "GREEDY_FRONTIER",
          "FRONTIER_ASSIST",
          "SCOUT",
          "ZONE_VORONOI",
          "GREEDY_FRONTIER",
          "SCOUT",
          "GREEDY_FRONTIER",
          "FRONTIER_CENTRAL_GREEDY",
          "FRONTIER",
          "GREEDY_FRONTIER",
          "FRONTIER_ASSIST",
          "SCOUT",
          "FRONTIER",
          "GREEDY_FRONTIER",
          "FRONTIER_ASSIST",
          "ZONE_VORONOI",
          "SCOUT",
          "ZONE_VORONOI",
          "FRONTIER",
          "FRONTIER_ASSIST",
          "SCOUT",
          "ZONE_VORONOI",
          "FRONTIER",
          "FRONTIER_ASSIST",
          "SCOUT",
          "ZONE_VORONOI",
          "FRONTIER",
          "GREEDY_FRONTIER",
          "FRONTIER_ASSIST",
          "ZONE_VORONOI",
          "FRONTIER",
          "GREEDY_FRONTIER",
          "FRONTIER_ASSIST",
          "SCOUT",
          "ZONE_VORONOI",
          "FRONTIER",
          "GREEDY_FRONTIER",
          "FRONTIER_ASSIST",
          "SCOUT",
          "FRONTIER_CENTRAL_GREEDY",
          "GREEDY_FRONTIER",
          "ZONE_VORONOI",
          "SCOUT"
         ],
         "x0": " ",
         "xaxis": "x",
         "y": [
          92,
          92,
          93,
          107,
          104,
          97,
          97,
          104,
          101,
          84,
          98,
          112,
          89,
          96,
          120,
          118,
          121,
          86,
          123,
          124,
          119,
          98,
          88,
          84,
          88,
          107,
          87,
          116,
          87,
          101,
          96,
          87,
          104,
          104,
          122,
          83,
          93,
          93,
          117,
          114,
          87,
          108,
          124,
          107,
          92,
          97,
          92,
          117,
          91,
          97,
          90,
          97,
          115,
          96,
          84,
          83,
          93
         ],
         "y0": " ",
         "yaxis": "y"
        }
       ],
       "layout": {
        "boxmode": "group",
        "legend": {
         "title": {
          "text": "Coverage"
         },
         "tracegroupgap": 0
        },
        "margin": {
         "t": 60
        },
        "template": {
         "data": {
          "bar": [
           {
            "error_x": {
             "color": "#2a3f5f"
            },
            "error_y": {
             "color": "#2a3f5f"
            },
            "marker": {
             "line": {
              "color": "#E5ECF6",
              "width": 0.5
             },
             "pattern": {
              "fillmode": "overlay",
              "size": 10,
              "solidity": 0.2
             }
            },
            "type": "bar"
           }
          ],
          "barpolar": [
           {
            "marker": {
             "line": {
              "color": "#E5ECF6",
              "width": 0.5
             },
             "pattern": {
              "fillmode": "overlay",
              "size": 10,
              "solidity": 0.2
             }
            },
            "type": "barpolar"
           }
          ],
          "carpet": [
           {
            "aaxis": {
             "endlinecolor": "#2a3f5f",
             "gridcolor": "white",
             "linecolor": "white",
             "minorgridcolor": "white",
             "startlinecolor": "#2a3f5f"
            },
            "baxis": {
             "endlinecolor": "#2a3f5f",
             "gridcolor": "white",
             "linecolor": "white",
             "minorgridcolor": "white",
             "startlinecolor": "#2a3f5f"
            },
            "type": "carpet"
           }
          ],
          "choropleth": [
           {
            "colorbar": {
             "outlinewidth": 0,
             "ticks": ""
            },
            "type": "choropleth"
           }
          ],
          "contour": [
           {
            "colorbar": {
             "outlinewidth": 0,
             "ticks": ""
            },
            "colorscale": [
             [
              0,
              "#0d0887"
             ],
             [
              0.1111111111111111,
              "#46039f"
             ],
             [
              0.2222222222222222,
              "#7201a8"
             ],
             [
              0.3333333333333333,
              "#9c179e"
             ],
             [
              0.4444444444444444,
              "#bd3786"
             ],
             [
              0.5555555555555556,
              "#d8576b"
             ],
             [
              0.6666666666666666,
              "#ed7953"
             ],
             [
              0.7777777777777778,
              "#fb9f3a"
             ],
             [
              0.8888888888888888,
              "#fdca26"
             ],
             [
              1,
              "#f0f921"
             ]
            ],
            "type": "contour"
           }
          ],
          "contourcarpet": [
           {
            "colorbar": {
             "outlinewidth": 0,
             "ticks": ""
            },
            "type": "contourcarpet"
           }
          ],
          "heatmap": [
           {
            "colorbar": {
             "outlinewidth": 0,
             "ticks": ""
            },
            "colorscale": [
             [
              0,
              "#0d0887"
             ],
             [
              0.1111111111111111,
              "#46039f"
             ],
             [
              0.2222222222222222,
              "#7201a8"
             ],
             [
              0.3333333333333333,
              "#9c179e"
             ],
             [
              0.4444444444444444,
              "#bd3786"
             ],
             [
              0.5555555555555556,
              "#d8576b"
             ],
             [
              0.6666666666666666,
              "#ed7953"
             ],
             [
              0.7777777777777778,
              "#fb9f3a"
             ],
             [
              0.8888888888888888,
              "#fdca26"
             ],
             [
              1,
              "#f0f921"
             ]
            ],
            "type": "heatmap"
           }
          ],
          "heatmapgl": [
           {
            "colorbar": {
             "outlinewidth": 0,
             "ticks": ""
            },
            "colorscale": [
             [
              0,
              "#0d0887"
             ],
             [
              0.1111111111111111,
              "#46039f"
             ],
             [
              0.2222222222222222,
              "#7201a8"
             ],
             [
              0.3333333333333333,
              "#9c179e"
             ],
             [
              0.4444444444444444,
              "#bd3786"
             ],
             [
              0.5555555555555556,
              "#d8576b"
             ],
             [
              0.6666666666666666,
              "#ed7953"
             ],
             [
              0.7777777777777778,
              "#fb9f3a"
             ],
             [
              0.8888888888888888,
              "#fdca26"
             ],
             [
              1,
              "#f0f921"
             ]
            ],
            "type": "heatmapgl"
           }
          ],
          "histogram": [
           {
            "marker": {
             "pattern": {
              "fillmode": "overlay",
              "size": 10,
              "solidity": 0.2
             }
            },
            "type": "histogram"
           }
          ],
          "histogram2d": [
           {
            "colorbar": {
             "outlinewidth": 0,
             "ticks": ""
            },
            "colorscale": [
             [
              0,
              "#0d0887"
             ],
             [
              0.1111111111111111,
              "#46039f"
             ],
             [
              0.2222222222222222,
              "#7201a8"
             ],
             [
              0.3333333333333333,
              "#9c179e"
             ],
             [
              0.4444444444444444,
              "#bd3786"
             ],
             [
              0.5555555555555556,
              "#d8576b"
             ],
             [
              0.6666666666666666,
              "#ed7953"
             ],
             [
              0.7777777777777778,
              "#fb9f3a"
             ],
             [
              0.8888888888888888,
              "#fdca26"
             ],
             [
              1,
              "#f0f921"
             ]
            ],
            "type": "histogram2d"
           }
          ],
          "histogram2dcontour": [
           {
            "colorbar": {
             "outlinewidth": 0,
             "ticks": ""
            },
            "colorscale": [
             [
              0,
              "#0d0887"
             ],
             [
              0.1111111111111111,
              "#46039f"
             ],
             [
              0.2222222222222222,
              "#7201a8"
             ],
             [
              0.3333333333333333,
              "#9c179e"
             ],
             [
              0.4444444444444444,
              "#bd3786"
             ],
             [
              0.5555555555555556,
              "#d8576b"
             ],
             [
              0.6666666666666666,
              "#ed7953"
             ],
             [
              0.7777777777777778,
              "#fb9f3a"
             ],
             [
              0.8888888888888888,
              "#fdca26"
             ],
             [
              1,
              "#f0f921"
             ]
            ],
            "type": "histogram2dcontour"
           }
          ],
          "mesh3d": [
           {
            "colorbar": {
             "outlinewidth": 0,
             "ticks": ""
            },
            "type": "mesh3d"
           }
          ],
          "parcoords": [
           {
            "line": {
             "colorbar": {
              "outlinewidth": 0,
              "ticks": ""
             }
            },
            "type": "parcoords"
           }
          ],
          "pie": [
           {
            "automargin": true,
            "type": "pie"
           }
          ],
          "scatter": [
           {
            "fillpattern": {
             "fillmode": "overlay",
             "size": 10,
             "solidity": 0.2
            },
            "type": "scatter"
           }
          ],
          "scatter3d": [
           {
            "line": {
             "colorbar": {
              "outlinewidth": 0,
              "ticks": ""
             }
            },
            "marker": {
             "colorbar": {
              "outlinewidth": 0,
              "ticks": ""
             }
            },
            "type": "scatter3d"
           }
          ],
          "scattercarpet": [
           {
            "marker": {
             "colorbar": {
              "outlinewidth": 0,
              "ticks": ""
             }
            },
            "type": "scattercarpet"
           }
          ],
          "scattergeo": [
           {
            "marker": {
             "colorbar": {
              "outlinewidth": 0,
              "ticks": ""
             }
            },
            "type": "scattergeo"
           }
          ],
          "scattergl": [
           {
            "marker": {
             "colorbar": {
              "outlinewidth": 0,
              "ticks": ""
             }
            },
            "type": "scattergl"
           }
          ],
          "scattermapbox": [
           {
            "marker": {
             "colorbar": {
              "outlinewidth": 0,
              "ticks": ""
             }
            },
            "type": "scattermapbox"
           }
          ],
          "scatterpolar": [
           {
            "marker": {
             "colorbar": {
              "outlinewidth": 0,
              "ticks": ""
             }
            },
            "type": "scatterpolar"
           }
          ],
          "scatterpolargl": [
           {
            "marker": {
             "colorbar": {
              "outlinewidth": 0,
              "ticks": ""
             }
            },
            "type": "scatterpolargl"
           }
          ],
          "scatterternary": [
           {
            "marker": {
             "colorbar": {
              "outlinewidth": 0,
              "ticks": ""
             }
            },
            "type": "scatterternary"
           }
          ],
          "surface": [
           {
            "colorbar": {
             "outlinewidth": 0,
             "ticks": ""
            },
            "colorscale": [
             [
              0,
              "#0d0887"
             ],
             [
              0.1111111111111111,
              "#46039f"
             ],
             [
              0.2222222222222222,
              "#7201a8"
             ],
             [
              0.3333333333333333,
              "#9c179e"
             ],
             [
              0.4444444444444444,
              "#bd3786"
             ],
             [
              0.5555555555555556,
              "#d8576b"
             ],
             [
              0.6666666666666666,
              "#ed7953"
             ],
             [
              0.7777777777777778,
              "#fb9f3a"
             ],
             [
              0.8888888888888888,
              "#fdca26"
             ],
             [
              1,
              "#f0f921"
             ]
            ],
            "type": "surface"
           }
          ],
          "table": [
           {
            "cells": {
             "fill": {
              "color": "#EBF0F8"
             },
             "line": {
              "color": "white"
             }
            },
            "header": {
             "fill": {
              "color": "#C8D4E3"
             },
             "line": {
              "color": "white"
             }
            },
            "type": "table"
           }
          ]
         },
         "layout": {
          "annotationdefaults": {
           "arrowcolor": "#2a3f5f",
           "arrowhead": 0,
           "arrowwidth": 1
          },
          "autotypenumbers": "strict",
          "coloraxis": {
           "colorbar": {
            "outlinewidth": 0,
            "ticks": ""
           }
          },
          "colorscale": {
           "diverging": [
            [
             0,
             "#8e0152"
            ],
            [
             0.1,
             "#c51b7d"
            ],
            [
             0.2,
             "#de77ae"
            ],
            [
             0.3,
             "#f1b6da"
            ],
            [
             0.4,
             "#fde0ef"
            ],
            [
             0.5,
             "#f7f7f7"
            ],
            [
             0.6,
             "#e6f5d0"
            ],
            [
             0.7,
             "#b8e186"
            ],
            [
             0.8,
             "#7fbc41"
            ],
            [
             0.9,
             "#4d9221"
            ],
            [
             1,
             "#276419"
            ]
           ],
           "sequential": [
            [
             0,
             "#0d0887"
            ],
            [
             0.1111111111111111,
             "#46039f"
            ],
            [
             0.2222222222222222,
             "#7201a8"
            ],
            [
             0.3333333333333333,
             "#9c179e"
            ],
            [
             0.4444444444444444,
             "#bd3786"
            ],
            [
             0.5555555555555556,
             "#d8576b"
            ],
            [
             0.6666666666666666,
             "#ed7953"
            ],
            [
             0.7777777777777778,
             "#fb9f3a"
            ],
            [
             0.8888888888888888,
             "#fdca26"
            ],
            [
             1,
             "#f0f921"
            ]
           ],
           "sequentialminus": [
            [
             0,
             "#0d0887"
            ],
            [
             0.1111111111111111,
             "#46039f"
            ],
            [
             0.2222222222222222,
             "#7201a8"
            ],
            [
             0.3333333333333333,
             "#9c179e"
            ],
            [
             0.4444444444444444,
             "#bd3786"
            ],
            [
             0.5555555555555556,
             "#d8576b"
            ],
            [
             0.6666666666666666,
             "#ed7953"
            ],
            [
             0.7777777777777778,
             "#fb9f3a"
            ],
            [
             0.8888888888888888,
             "#fdca26"
            ],
            [
             1,
             "#f0f921"
            ]
           ]
          },
          "colorway": [
           "#636efa",
           "#EF553B",
           "#00cc96",
           "#ab63fa",
           "#FFA15A",
           "#19d3f3",
           "#FF6692",
           "#B6E880",
           "#FF97FF",
           "#FECB52"
          ],
          "font": {
           "color": "#2a3f5f"
          },
          "geo": {
           "bgcolor": "white",
           "lakecolor": "white",
           "landcolor": "#E5ECF6",
           "showlakes": true,
           "showland": true,
           "subunitcolor": "white"
          },
          "hoverlabel": {
           "align": "left"
          },
          "hovermode": "closest",
          "mapbox": {
           "style": "light"
          },
          "paper_bgcolor": "white",
          "plot_bgcolor": "#E5ECF6",
          "polar": {
           "angularaxis": {
            "gridcolor": "white",
            "linecolor": "white",
            "ticks": ""
           },
           "bgcolor": "#E5ECF6",
           "radialaxis": {
            "gridcolor": "white",
            "linecolor": "white",
            "ticks": ""
           }
          },
          "scene": {
           "xaxis": {
            "backgroundcolor": "#E5ECF6",
            "gridcolor": "white",
            "gridwidth": 2,
            "linecolor": "white",
            "showbackground": true,
            "ticks": "",
            "zerolinecolor": "white"
           },
           "yaxis": {
            "backgroundcolor": "#E5ECF6",
            "gridcolor": "white",
            "gridwidth": 2,
            "linecolor": "white",
            "showbackground": true,
            "ticks": "",
            "zerolinecolor": "white"
           },
           "zaxis": {
            "backgroundcolor": "#E5ECF6",
            "gridcolor": "white",
            "gridwidth": 2,
            "linecolor": "white",
            "showbackground": true,
            "ticks": "",
            "zerolinecolor": "white"
           }
          },
          "shapedefaults": {
           "line": {
            "color": "#2a3f5f"
           }
          },
          "ternary": {
           "aaxis": {
            "gridcolor": "white",
            "linecolor": "white",
            "ticks": ""
           },
           "baxis": {
            "gridcolor": "white",
            "linecolor": "white",
            "ticks": ""
           },
           "bgcolor": "#E5ECF6",
           "caxis": {
            "gridcolor": "white",
            "linecolor": "white",
            "ticks": ""
           }
          },
          "title": {
           "x": 0.05
          },
          "xaxis": {
           "automargin": true,
           "gridcolor": "white",
           "linecolor": "white",
           "ticks": "",
           "title": {
            "standoff": 15
           },
           "zerolinecolor": "white",
           "zerolinewidth": 2
          },
          "yaxis": {
           "automargin": true,
           "gridcolor": "white",
           "linecolor": "white",
           "ticks": "",
           "title": {
            "standoff": 15
           },
           "zerolinecolor": "white",
           "zerolinewidth": 2
          }
         }
        },
        "title": {
         "text": "CAVE - 15 agents - Coordination"
        },
        "xaxis": {
         "anchor": "y",
         "categoryarray": [
          "FRONTIER",
          "GREEDY_FRONTIER",
          "FRONTIER_ASSIST",
          "SCOUT",
          "FRONTIER_CENTRAL_GREEDY",
          "ZONE_SPLIT",
          "ZONE_VORONOI"
         ],
         "categoryorder": "array",
         "domain": [
          0,
          1
         ],
         "tickmode": "array",
         "ticktext": [
          "Distributed Frontier-based",
          "Distributed Frontier-based greedy",
          "Distributed Frontier-based assistance",
          "Role system: Scout",
          "Centralised Frontier-based",
          "Zone-grid split",
          "Zone-Voronoi"
         ],
         "tickvals": [
          0,
          1,
          2,
          3,
          4,
          5,
          6
         ],
         "title": {
          "text": "Methods"
         }
        },
        "yaxis": {
         "anchor": "x",
         "domain": [
          0,
          1
         ],
         "title": {
          "text": "Moves"
         }
        }
       }
      }
     },
     "metadata": {},
     "output_type": "display_data"
    }
   ],
   "source": [
    "import plotly.express as px\n",
    "import numpy as np\n",
    "\n",
    "behaviourIndependentNames = [\n",
    "    behaviour.name\n",
    "    for behaviour in BehaviourType.getExperimentBehaviourType()\n",
    "    if behaviour.value < 2\n",
    "]\n",
    "behaviourCoordinationNames = [\n",
    "    behaviour.name\n",
    "    for behaviour in BehaviourType.getExperimentBehaviourType()\n",
    "    if behaviour.value >= 2\n",
    "]\n",
    "\n",
    "behaviourIndependentLabels = [\"Wandering\", \"Greedy\"]\n",
    "behaviourCoordinationLabels = [\n",
    "    \"Distributed Frontier-based\",\n",
    "    \"Distributed Frontier-based greedy\",\n",
    "    \"Distributed Frontier-based assistance\",\n",
    "    \"Role system: Scout\",\n",
    "    \"Centralised Frontier-based\",\n",
    "    \"Zone-grid split\",\n",
    "    \"Zone-Voronoi\",\n",
    "]\n",
    "\n",
    "labels = [behaviourIndependentLabels, behaviourCoordinationLabels]\n",
    "\n",
    "\n",
    "def plot(df, strategy, behaviourNames, behaviourLabels):\n",
    "    fig = px.box(\n",
    "        df,\n",
    "        x=\"Behaviour\",\n",
    "        y=\"Moves\",\n",
    "        color=\"Coverage\",\n",
    "        category_orders={\n",
    "            \"Behaviour\": behaviourNames,\n",
    "            \"Coverage\": [\"50%\", \"75%\", \"90%\", \"100%\"],\n",
    "        },\n",
    "    )\n",
    "\n",
    "    fig.update_layout(\n",
    "        title=f\"{layout.name} - {num} agents - {strategy}\",\n",
    "        xaxis_title=\"Methods\",\n",
    "        xaxis=dict(\n",
    "            tickmode=\"array\",\n",
    "            tickvals=[*range(len(behaviourNames))],\n",
    "            ticktext=behaviourLabels,\n",
    "        ),\n",
    "    )\n",
    "\n",
    "    fig.show()\n",
    "\n",
    "\n",
    "for num in [15]:  # , 10, 5\n",
    "    for layout in [l for l in LayoutType.getExperimentLayout() if l.value in [1, 2, 9]]:\n",
    "        df = pd.read_csv(f\"experimentResults/experiment_{layout.name}_{num}.csv\")\n",
    "        df = df.replace(-1, np.nan)\n",
    "\n",
    "        for i, methods in enumerate(\n",
    "            [behaviourIndependentNames, behaviourCoordinationNames]\n",
    "        ):\n",
    "            df_filtered = df[df[\"Behaviour\"].isin(methods)]\n",
    "            for column in [\"total50\", \"total75\", \"total90\", \"total100\"]:\n",
    "                q1 = df_filtered[column].quantile(0.25)\n",
    "                q3 = df_filtered[column].quantile(0.75)\n",
    "\n",
    "                df_filtered_clean = df_filtered[\n",
    "                    (df_filtered[column] > q1) & (df_filtered[column] < q3)\n",
    "                ]\n",
    "\n",
    "            df_melted = df_filtered_clean.melt(\n",
    "                id_vars=[\"Behaviour\", \"Round\"], var_name=\"Coverage\", value_name=\"Moves\"\n",
    "            )\n",
    "            df_melted[\"Coverage\"] = df_melted[\"Coverage\"].map(\n",
    "                {\n",
    "                    \"total50\": \"50%\", \"total75\": \"75%\", \"total90\": \"90%\", \"total100\": \"100%\",\n",
    "                }\n",
    "            )\n",
    "\n",
    "            plot(df_melted, [\"Independent\", \"Coordination\"][i], methods, labels[i])"
   ]
  },
  {
   "cell_type": "code",
   "execution_count": null,
   "metadata": {},
   "outputs": [],
   "source": [
    "import plotly.express as px\n",
    "\n",
    "\n",
    "def plotSuccessRate(df: pd.DataFrame):\n",
    "    df_vis = df.copy()\n",
    "    df_vis[\"total100\"] = df_vis[\"total100\"].apply(\n",
    "        lambda x: \"Success\" if x >= 0 else \"Unsuccess\"\n",
    "    )\n",
    "\n",
    "    color_map = {\"Success\": \"royalblue\", \"Unsuccess\": \"tomato\"}\n",
    "    fig = px.histogram(\n",
    "        df_vis,\n",
    "        x=\"Behaviour\",\n",
    "        color=\"total100\",\n",
    "        barmode=\"group\",\n",
    "        barnorm=\"percent\",\n",
    "        color_discrete_map=color_map,\n",
    "        category_orders={\n",
    "            'Behaviour':[behav.name for behav in BehaviourType.getExperimentBehaviourType()],\n",
    "            \"total100\": [\"Success\", \"Unsuccess\"]},\n",
    "    )\n",
    "\n",
    "    return fig"
   ]
  }
 ],
 "metadata": {
  "kernelspec": {
   "display_name": "uon",
   "language": "python",
   "name": "python3"
  },
  "language_info": {
   "codemirror_mode": {
    "name": "ipython",
    "version": 3
   },
   "file_extension": ".py",
   "mimetype": "text/x-python",
   "name": "python",
   "nbconvert_exporter": "python",
   "pygments_lexer": "ipython3",
   "version": "3.10.15"
  }
 },
 "nbformat": 4,
 "nbformat_minor": 2
}
