{
 "cells": [
  {
   "cell_type": "code",
   "execution_count": 4,
   "metadata": {},
   "outputs": [
    {
     "data": {
      "text/html": [
       "<div>\n",
       "<style scoped>\n",
       "    .dataframe tbody tr th:only-of-type {\n",
       "        vertical-align: middle;\n",
       "    }\n",
       "\n",
       "    .dataframe tbody tr th {\n",
       "        vertical-align: top;\n",
       "    }\n",
       "\n",
       "    .dataframe thead th {\n",
       "        text-align: right;\n",
       "    }\n",
       "</style>\n",
       "<table border=\"1\" class=\"dataframe\">\n",
       "  <thead>\n",
       "    <tr style=\"text-align: right;\">\n",
       "      <th></th>\n",
       "      <th>Behaviour</th>\n",
       "      <th>Round</th>\n",
       "      <th>total100</th>\n",
       "      <th>total90</th>\n",
       "      <th>total75</th>\n",
       "      <th>total50</th>\n",
       "    </tr>\n",
       "  </thead>\n",
       "  <tbody>\n",
       "    <tr>\n",
       "      <th>0</th>\n",
       "      <td>FRONTIER</td>\n",
       "      <td>0</td>\n",
       "      <td>282</td>\n",
       "      <td>281</td>\n",
       "      <td>252</td>\n",
       "      <td>212</td>\n",
       "    </tr>\n",
       "    <tr>\n",
       "      <th>1</th>\n",
       "      <td>FRONTIER</td>\n",
       "      <td>1</td>\n",
       "      <td>292</td>\n",
       "      <td>291</td>\n",
       "      <td>249</td>\n",
       "      <td>201</td>\n",
       "    </tr>\n",
       "    <tr>\n",
       "      <th>2</th>\n",
       "      <td>FRONTIER</td>\n",
       "      <td>2</td>\n",
       "      <td>305</td>\n",
       "      <td>304</td>\n",
       "      <td>251</td>\n",
       "      <td>211</td>\n",
       "    </tr>\n",
       "    <tr>\n",
       "      <th>3</th>\n",
       "      <td>FRONTIER</td>\n",
       "      <td>3</td>\n",
       "      <td>309</td>\n",
       "      <td>308</td>\n",
       "      <td>266</td>\n",
       "      <td>224</td>\n",
       "    </tr>\n",
       "    <tr>\n",
       "      <th>4</th>\n",
       "      <td>FRONTIER</td>\n",
       "      <td>4</td>\n",
       "      <td>281</td>\n",
       "      <td>280</td>\n",
       "      <td>246</td>\n",
       "      <td>206</td>\n",
       "    </tr>\n",
       "  </tbody>\n",
       "</table>\n",
       "</div>"
      ],
      "text/plain": [
       "  Behaviour  Round  total100  total90  total75  total50\n",
       "0  FRONTIER      0       282      281      252      212\n",
       "1  FRONTIER      1       292      291      249      201\n",
       "2  FRONTIER      2       305      304      251      211\n",
       "3  FRONTIER      3       309      308      266      224\n",
       "4  FRONTIER      4       281      280      246      206"
      ]
     },
     "execution_count": 4,
     "metadata": {},
     "output_type": "execute_result"
    }
   ],
   "source": [
    "import pandas as pd\n",
    "\n",
    "df = pd.read_csv(\"experimentResults/preliminary_experiment_PLAIN_2.csv\")\n",
    "\n",
    "\n",
    "df.head()"
   ]
  }
 ],
 "metadata": {
  "kernelspec": {
   "display_name": "uon",
   "language": "python",
   "name": "python3"
  },
  "language_info": {
   "codemirror_mode": {
    "name": "ipython",
    "version": 3
   },
   "file_extension": ".py",
   "mimetype": "text/x-python",
   "name": "python",
   "nbconvert_exporter": "python",
   "pygments_lexer": "ipython3",
   "version": "3.10.15"
  }
 },
 "nbformat": 4,
 "nbformat_minor": 2
}
